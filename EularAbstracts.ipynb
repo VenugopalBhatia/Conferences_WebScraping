{
 "cells": [
  {
   "cell_type": "code",
   "execution_count": 25,
   "metadata": {},
   "outputs": [],
   "source": [
    "import requests\n",
    "from bs4 import BeautifulSoup\n",
    "from selenium import webdriver"
   ]
  },
  {
   "cell_type": "code",
   "execution_count": 26,
   "metadata": {},
   "outputs": [],
   "source": [
    "from selenium.webdriver.common.by import By\n",
    "from selenium.webdriver.support.ui import WebDriverWait\n",
    "import selenium.webdriver.support.expected_conditions as EC"
   ]
  },
  {
   "cell_type": "code",
   "execution_count": 27,
   "metadata": {},
   "outputs": [],
   "source": [
    "driver = webdriver.Chrome(r'C:\\Users\\venug\\Downloads\\chromedriver.exe')"
   ]
  },
  {
   "cell_type": "code",
   "execution_count": 28,
   "metadata": {},
   "outputs": [],
   "source": [
    "driver.get('http://scientific.sparx-ip.net/archiveeular/index.cfm?')"
   ]
  },
  {
   "cell_type": "code",
   "execution_count": 30,
   "metadata": {},
   "outputs": [],
   "source": [
    "driver.find_element_by_link_text('Abstract Titles').click()"
   ]
  },
  {
   "cell_type": "code",
   "execution_count": 87,
   "metadata": {},
   "outputs": [],
   "source": [
    "driver.find_element_by_id('pageNum').clear()\n",
    "driver.find_element_by_id('pageNum').send_keys('200' + '\\n')"
   ]
  },
  {
   "cell_type": "code",
   "execution_count": 35,
   "metadata": {},
   "outputs": [],
   "source": [
    "table = driver.find_element_by_class_name('table-result')"
   ]
  },
  {
   "cell_type": "code",
   "execution_count": 64,
   "metadata": {},
   "outputs": [],
   "source": [
    "tableRows = table.find_elements_by_tag_name('td')"
   ]
  },
  {
   "cell_type": "code",
   "execution_count": 72,
   "metadata": {},
   "outputs": [],
   "source": [
    "links = []\n",
    "for i in range(0,len(tableRows),2):\n",
    "    link = tableRows[i].find_element_by_tag_name('a').get_attribute('href')\n",
    "    links.append(link)"
   ]
  },
  {
   "cell_type": "code",
   "execution_count": 73,
   "metadata": {
    "scrolled": true
   },
   "outputs": [
    {
     "data": {
      "text/plain": [
       "['http://scientific.sparx-ip.net/archiveeular/?c=a&view=2&item=2020OP0196-PARE',\n",
       " 'http://scientific.sparx-ip.net/archiveeular/?c=a&view=2&item=2020FRI0155',\n",
       " 'http://scientific.sparx-ip.net/archiveeular/?c=a&view=2&item=2020FRI0610-HPR',\n",
       " 'http://scientific.sparx-ip.net/archiveeular/?c=a&view=2&item=2020THU0206',\n",
       " 'http://scientific.sparx-ip.net/archiveeular/?c=a&view=2&item=2020FRI0492',\n",
       " 'http://scientific.sparx-ip.net/archiveeular/?c=a&view=2&item=2020AB0861',\n",
       " 'http://scientific.sparx-ip.net/archiveeular/?c=a&view=2&item=2020PARE0013',\n",
       " 'http://scientific.sparx-ip.net/archiveeular/?c=a&view=2&item=2020THU0589',\n",
       " 'http://scientific.sparx-ip.net/archiveeular/?c=a&view=2&item=2020THU0158',\n",
       " 'http://scientific.sparx-ip.net/archiveeular/?c=a&view=2&item=2020THU0157']"
      ]
     },
     "execution_count": 73,
     "metadata": {},
     "output_type": "execute_result"
    }
   ],
   "source": [
    "links"
   ]
  },
  {
   "cell_type": "code",
   "execution_count": null,
   "metadata": {},
   "outputs": [],
   "source": []
  },
  {
   "cell_type": "code",
   "execution_count": null,
   "metadata": {},
   "outputs": [],
   "source": []
  },
  {
   "cell_type": "code",
   "execution_count": null,
   "metadata": {},
   "outputs": [],
   "source": []
  }
 ],
 "metadata": {
  "kernelspec": {
   "display_name": "Python 3",
   "language": "python",
   "name": "python3"
  },
  "language_info": {
   "codemirror_mode": {
    "name": "ipython",
    "version": 3
   },
   "file_extension": ".py",
   "mimetype": "text/x-python",
   "name": "python",
   "nbconvert_exporter": "python",
   "pygments_lexer": "ipython3",
   "version": "3.7.6"
  }
 },
 "nbformat": 4,
 "nbformat_minor": 4
}
