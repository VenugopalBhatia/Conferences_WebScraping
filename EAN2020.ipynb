{
 "cells": [
  {
   "cell_type": "code",
   "execution_count": 1,
   "metadata": {},
   "outputs": [],
   "source": [
    "import pandas as pd\n",
    "import numpy as np\n",
    "from bs4 import BeautifulSoup\n",
    "import requests\n",
    "import time\n",
    "from tqdm import tqdm_notebook"
   ]
  },
  {
   "cell_type": "code",
   "execution_count": null,
   "metadata": {},
   "outputs": [],
   "source": [
    "SessionLink = 'https://ipp-ean20.netkey.at/index.php?p=elasearch&t=browsesessions&pnr='\n",
    "TotalPages = 10"
   ]
  },
  {
   "cell_type": "code",
   "execution_count": null,
   "metadata": {},
   "outputs": [],
   "source": [
    "i = 1\n",
    "url = SessionLink + str(i)"
   ]
  },
  {
   "cell_type": "code",
   "execution_count": null,
   "metadata": {},
   "outputs": [],
   "source": [
    "response = requests.get(url)\n",
    "data = BeautifulSoup(response.text,'lxml')"
   ]
  },
  {
   "cell_type": "code",
   "execution_count": null,
   "metadata": {},
   "outputs": [],
   "source": [
    "results = data.find('div',class_ = 'ipp-result-list gallery')\n",
    "SessionList = results.find_all('div',class_ = 'ipp-result-list-item-info-title')"
   ]
  },
  {
   "cell_type": "code",
   "execution_count": null,
   "metadata": {},
   "outputs": [],
   "source": [
    "SessionLinks = []\n",
    "for session in SessionList:\n",
    "    SessionLinks.append(session.find('a')['href'])"
   ]
  },
  {
   "cell_type": "code",
   "execution_count": null,
   "metadata": {},
   "outputs": [],
   "source": [
    "len(SessionLinks)"
   ]
  },
  {
   "cell_type": "code",
   "execution_count": null,
   "metadata": {
    "scrolled": true
   },
   "outputs": [],
   "source": [
    "SessionLinks = []\n",
    "numberSessions = 0\n",
    "for i in range(1,TotalPages+1):\n",
    "    url = SessionLink + str(i)\n",
    "    response = requests.get(url)\n",
    "    data = BeautifulSoup(response.text,'lxml')\n",
    "    results = data.find('div',class_ = 'ipp-result-list gallery')\n",
    "    SessionList = results.find_all('div',class_ = 'ipp-result-list-item-info-title')\n",
    "    for session in SessionList:\n",
    "        SessionLinks.append(session.find('a')['href'])\n",
    "    numberSessions = len(SessionLinks) - numberSessions\n",
    "    print(len(SessionList))\n",
    "    "
   ]
  },
  {
   "cell_type": "code",
   "execution_count": null,
   "metadata": {},
   "outputs": [],
   "source": [
    "sessUrl = 'https://ipp-ean20.netkey.at/index.php?p=recorddetail&rid=be19e9fb-d280-48f3-874f-f62b2bba747f&t=browsesessions'\n",
    "sessionResp = requests.get(sessUrl)\n",
    "sessionInfo = BeautifulSoup(sessionResp.text,'lxml')"
   ]
  },
  {
   "cell_type": "code",
   "execution_count": null,
   "metadata": {},
   "outputs": [],
   "source": [
    "SessionDetails = sessionInfo.find('div',class_ = 'ipp-record-detail-infos')\n",
    "SessionDetails"
   ]
  },
  {
   "cell_type": "code",
   "execution_count": null,
   "metadata": {
    "scrolled": true
   },
   "outputs": [],
   "source": [
    "SessionDict = {}\n",
    "SessionDict['Session Heading'] = SessionDetails.find('div',class_ = 'ipp-record-detail-title').text.strip()\n",
    "SessionDict['Session Time'] = SessionDetails.find('span',class_ = 'ipp-record-detail-datetime').text.replace(' ','').strip()\n",
    "try:\n",
    "    SessionDict[SessionDetails.find_all('span',class_ = 'ipp-record-detail-room')[0].strong.text] = SessionDetails.find_all('span',class_ = 'ipp-record-detail-room')[0].text.strip()\n",
    "except:\n",
    "    pass\n",
    "try:\n",
    "    SessionDict[SessionDetails.find_all('span',class_ = 'ipp-record-detail-room')[1].strong.text] = SessionDetails.find_all('span',class_ = 'ipp-record-detail-room')[1].text.strip()\n",
    "except:\n",
    "    pass\n",
    "try:\n",
    "    SessionDict[SessionDetails.find_all('span',class_ = 'ipp-record-detail-room')[2].strong.text] = SessionDetails.find_all('span',class_ = 'ipp-record-detail-room')[2].text.strip()\n",
    "except:\n",
    "    pass\n",
    "try:\n",
    "    SessionDict['Session Description'] = sessionInfo.find('div',class_ = 'ipp-record-detail-description').text\n",
    "except:\n",
    "    pass\n",
    "print(SessionDict)"
   ]
  },
  {
   "cell_type": "code",
   "execution_count": null,
   "metadata": {},
   "outputs": [],
   "source": [
    "PresentationDetails = sessionInfo.find('div',class_ = 'ipp-record-detail-children')\n",
    "try:\n",
    "    Presentations = PresentationDetails.find_all('div',class_ = 'ipp-record-detail ipp-record-detail-child')\n",
    "    print(Presentations)\n",
    "except:\n",
    "    Presentations = []"
   ]
  },
  {
   "cell_type": "code",
   "execution_count": null,
   "metadata": {},
   "outputs": [],
   "source": [
    "try:\n",
    "    PresentationCode = Presentations[0].find('div',class_ = 'ipp-record-detail-child-number').text.strip()\n",
    "except:\n",
    "    PresentationCode = ''\n",
    "try:\n",
    "    PresentationTitle = Presentations[0].find('div',class_ = 'ipp-record-detail-title').text.strip()\n",
    "except:\n",
    "    PresentationTitle = ''\n",
    "try:    \n",
    "    PresentationAuthors = Presentations[0].find('div',class_ = 'ipp-record-detail-author-block').text.strip()\n",
    "except:\n",
    "    PresentationAuthors = ''\n",
    "try:\n",
    "    PresentationAbstract = Presentations[0].find('div',class_ = 'ipp-record-detail-abstract-content').text.strip()\n",
    "except:\n",
    "    PresentationAbstract = ''\n",
    "print(PresentationCode)\n",
    "print(PresentationTitle)\n",
    "print(PresentationAuthors)\n",
    "print(PresentationAbstract)"
   ]
  },
  {
   "cell_type": "code",
   "execution_count": 1,
   "metadata": {},
   "outputs": [
    {
     "ename": "NameError",
     "evalue": "name 'pd' is not defined",
     "output_type": "error",
     "traceback": [
      "\u001b[1;31m---------------------------------------------------------------------------\u001b[0m",
      "\u001b[1;31mNameError\u001b[0m                                 Traceback (most recent call last)",
      "\u001b[1;32m<ipython-input-1-af8382b69fbb>\u001b[0m in \u001b[0;36m<module>\u001b[1;34m\u001b[0m\n\u001b[1;32m----> 1\u001b[1;33m \u001b[0mMasterdf\u001b[0m \u001b[1;33m=\u001b[0m \u001b[0mpd\u001b[0m\u001b[1;33m.\u001b[0m\u001b[0mDataFrame\u001b[0m\u001b[1;33m(\u001b[0m\u001b[1;33m)\u001b[0m\u001b[1;33m\u001b[0m\u001b[1;33m\u001b[0m\u001b[0m\n\u001b[0m\u001b[0;32m      2\u001b[0m \u001b[1;33m\u001b[0m\u001b[0m\n\u001b[0;32m      3\u001b[0m \u001b[1;32mfor\u001b[0m \u001b[0mi\u001b[0m \u001b[1;32min\u001b[0m \u001b[0mtqdm_notebook\u001b[0m\u001b[1;33m(\u001b[0m\u001b[0mSessionLinks\u001b[0m\u001b[1;33m)\u001b[0m\u001b[1;33m:\u001b[0m\u001b[1;33m\u001b[0m\u001b[1;33m\u001b[0m\u001b[0m\n\u001b[0;32m      4\u001b[0m     \u001b[0msessUrl\u001b[0m \u001b[1;33m=\u001b[0m \u001b[0mi\u001b[0m\u001b[1;33m\u001b[0m\u001b[1;33m\u001b[0m\u001b[0m\n\u001b[0;32m      5\u001b[0m     \u001b[0msessionResp\u001b[0m \u001b[1;33m=\u001b[0m \u001b[0mrequests\u001b[0m\u001b[1;33m.\u001b[0m\u001b[0mget\u001b[0m\u001b[1;33m(\u001b[0m\u001b[0msessUrl\u001b[0m\u001b[1;33m)\u001b[0m\u001b[1;33m\u001b[0m\u001b[1;33m\u001b[0m\u001b[0m\n",
      "\u001b[1;31mNameError\u001b[0m: name 'pd' is not defined"
     ]
    }
   ],
   "source": [
    "Masterdf = pd.DataFrame()\n",
    "\n",
    "for i in tqdm_notebook(SessionLinks):\n",
    "    sessUrl = i\n",
    "    sessionResp = requests.get(sessUrl)\n",
    "    sessionInfo = BeautifulSoup(sessionResp.text,'lxml')\n",
    "    SessionDetails = sessionInfo.find('div',class_ = 'ipp-record-detail-infos')\n",
    "    SessionDict = {}\n",
    "    SessionDict['Session Heading'] = SessionDetails.find('div',class_ = 'ipp-record-detail-title').text.strip()\n",
    "    SessionDict['Session Time'] = SessionDetails.find('span',class_ = 'ipp-record-detail-datetime').text.replace(' ','').strip()\n",
    "    SessionDict['Url'] = sessUrl\n",
    "    try:\n",
    "        SessionDict[SessionDetails.find_all('span',class_ = 'ipp-record-detail-room')[0].strong.text] = SessionDetails.find_all('span',class_ = 'ipp-record-detail-room')[0].text.strip()\n",
    "    except:\n",
    "        pass\n",
    "    try:\n",
    "        SessionDict[SessionDetails.find_all('span',class_ = 'ipp-record-detail-room')[1].strong.text] = SessionDetails.find_all('span',class_ = 'ipp-record-detail-room')[1].text.strip()\n",
    "    except:\n",
    "        pass\n",
    "    try:\n",
    "        SessionDict[SessionDetails.find_all('span',class_ = 'ipp-record-detail-room')[2].strong.text] = SessionDetails.find_all('span',class_ = 'ipp-record-detail-room')[2].text.strip()\n",
    "    except:\n",
    "        pass\n",
    "    try:\n",
    "        SessionDict['Session Description'] = sessionInfo.find('div',class_ = 'ipp-record-detail-description').text\n",
    "    except:\n",
    "        pass\n",
    "    PresentationDetails = sessionInfo.find('div',class_ = 'ipp-record-detail-children')\n",
    "    try:\n",
    "        Presentations = PresentationDetails.find_all('div',class_ = 'ipp-record-detail ipp-record-detail-child')\n",
    "#         print(Presentations)\n",
    "    except:\n",
    "        Presentations = []\n",
    "#     presentationDict = SessionDict.copy()\n",
    "    if(len(Presentations)==0):\n",
    "        print(i)\n",
    "        Masterdf = Masterdf.append(SessionDict,ignore_index = True)\n",
    "    else:\n",
    "        for i in tqdm_notebook(range(len(Presentations))):\n",
    "            presentationDict = SessionDict.copy()\n",
    "            try:\n",
    "                PresentationCode = Presentations[0].find('div',class_ = 'ipp-record-detail-child-number').text.strip()\n",
    "            except:\n",
    "                PresentationCode = ''\n",
    "            try:\n",
    "                PresentationTitle = Presentations[0].find('div',class_ = 'ipp-record-detail-title').text.strip()\n",
    "            except:\n",
    "                PresentationTitle = ''\n",
    "            try:    \n",
    "                PresentationAuthors = Presentations[0].find('div',class_ = 'ipp-record-detail-author-block').text.strip()\n",
    "            except:\n",
    "                PresentationAuthors = ''\n",
    "            try:\n",
    "                PresentationAbstract = Presentations[0].find('div',class_ = 'ipp-record-detail-abstract-content').text.strip()\n",
    "            except:\n",
    "                PresentationAbstract = ''\n",
    "            presentationDict['Presentation Code'] = PresentationCode\n",
    "            presentationDict['Presentation Title'] = PresentationTitle\n",
    "            presentationDict['Presentation Authors'] = PresentationAuthors\n",
    "            presentationDict['Presentation Abstract'] = PresentationAbstract\n",
    "            Masterdf.append(presentationDict,ignore_index = True)\n",
    "Masterdf    \n",
    "\n"
   ]
  },
  {
   "cell_type": "code",
   "execution_count": null,
   "metadata": {},
   "outputs": [],
   "source": []
  }
 ],
 "metadata": {
  "kernelspec": {
   "display_name": "Python 3",
   "language": "python",
   "name": "python3"
  },
  "language_info": {
   "codemirror_mode": {
    "name": "ipython",
    "version": 3
   },
   "file_extension": ".py",
   "mimetype": "text/x-python",
   "name": "python",
   "nbconvert_exporter": "python",
   "pygments_lexer": "ipython3",
   "version": "3.7.6"
  }
 },
 "nbformat": 4,
 "nbformat_minor": 2
}
