{
 "cells": [
  {
   "cell_type": "code",
   "execution_count": 1,
   "metadata": {},
   "outputs": [],
   "source": [
    "import requests\n",
    "from bs4 import BeautifulSoup\n",
    "import pandas as pd\n",
    "from tqdm import tqdm_notebook"
   ]
  },
  {
   "cell_type": "code",
   "execution_count": 6,
   "metadata": {},
   "outputs": [],
   "source": [
    "url = 'https://apps-congress.eular.org/eular2020/en-GB/PublicProgram/SessionTableJson?'\n",
    "params = {'pDay':'2020-06-04T06:00:00','pEventId':'7','pProgramGrade':'0','pShowPrivate':'false'}\n",
    "data = requests.get(url,params = params)"
   ]
  },
  {
   "cell_type": "code",
   "execution_count": 8,
   "metadata": {},
   "outputs": [],
   "source": [
    "dict = data.json()\n"
   ]
  },
  {
   "cell_type": "code",
   "execution_count": 32,
   "metadata": {},
   "outputs": [
    {
     "data": {
      "text/plain": [
       "{'Id': 574,\n",
       " 'Name': 'WIN - IgG4 disease',\n",
       " 'TextWithFormat': 'WIN - IgG4 disease',\n",
       " 'StartDateTime': '/Date(1591258500000)/',\n",
       " 'EndDateTime': '/Date(1591260900000)/',\n",
       " 'Number': '',\n",
       " 'Short': '',\n",
       " 'Description': '&lt;ul&gt;&lt;li&gt;To receive an update on IgG4 disease.&lt;/li&gt;&lt;/ul&gt;',\n",
       " 'Color': '#002060',\n",
       " 'ViewCounter': 14,\n",
       " 'IsPoster': False,\n",
       " 'RoomId': 78,\n",
       " 'RoomName': 'Festhalle',\n",
       " 'RoomSort': 1,\n",
       " 'SessionTypeName': 'WIN session',\n",
       " 'SessionGroupNames': '',\n",
       " 'IsInPersonalProgram': False,\n",
       " 'SessionGroupColors': None,\n",
       " 'Tags': [],\n",
       " 'StartTimeString': '10:15',\n",
       " 'EndTimeString': '10:55',\n",
       " 'Chairs': None,\n",
       " 'RoomIndex': 0,\n",
       " 'StartTimeIndex': 1,\n",
       " 'DayStart': '/Date(1591251300000)/',\n",
       " 'TotalMinutesOfDay': 645,\n",
       " 'Icons': None,\n",
       " 'SessionGroupList': None,\n",
       " 'SessionGroupColorList': None,\n",
       " 'Text': 'WIN - IgG4 disease'}"
      ]
     },
     "execution_count": 32,
     "metadata": {},
     "output_type": "execute_result"
    }
   ],
   "source": [
    "dict['Sessions'][1]"
   ]
  },
  {
   "cell_type": "code",
   "execution_count": 14,
   "metadata": {},
   "outputs": [
    {
     "name": "stdout",
     "output_type": "stream",
     "text": [
      "666\n",
      "574\n",
      "687\n",
      "702\n",
      "697\n",
      "686\n",
      "689\n",
      "690\n",
      "669\n",
      "750\n",
      "665\n",
      "683\n",
      "675\n",
      "682\n",
      "576\n",
      "575\n",
      "580\n",
      "582\n",
      "584\n",
      "586\n",
      "588\n",
      "591\n",
      "602\n",
      "596\n",
      "594\n",
      "600\n",
      "604\n",
      "598\n",
      "579\n",
      "578\n",
      "581\n",
      "583\n",
      "585\n",
      "587\n",
      "589\n",
      "592\n",
      "632\n",
      "597\n",
      "603\n",
      "601\n",
      "605\n",
      "599\n",
      "553\n",
      "577\n",
      "593\n"
     ]
    }
   ],
   "source": [
    "for i in dict['Sessions']:\n",
    "    print(i['Id'])"
   ]
  },
  {
   "cell_type": "code",
   "execution_count": 94,
   "metadata": {},
   "outputs": [],
   "source": [
    "id = dict['Sessions'][1]['Id']\n"
   ]
  },
  {
   "cell_type": "code",
   "execution_count": 95,
   "metadata": {},
   "outputs": [],
   "source": [
    "sessionUrl = 'https://apps-congress.eular.org/eular2020/en-GB/ProgramSearch/Program/?searchstring=&programid='+str(id)+'&pProgramGrade=All&pHideLogin=False&pHidePersonal=False'"
   ]
  },
  {
   "cell_type": "code",
   "execution_count": 22,
   "metadata": {},
   "outputs": [
    {
     "data": {
      "text/plain": [
       "'https://apps-congress.eular.org/eular2020/en-GB/PublicProgram/SessionTableJson?'"
      ]
     },
     "execution_count": 22,
     "metadata": {},
     "output_type": "execute_result"
    }
   ],
   "source": [
    "url"
   ]
  },
  {
   "cell_type": "code",
   "execution_count": 24,
   "metadata": {},
   "outputs": [],
   "source": [
    "import pandas as pd"
   ]
  },
  {
   "cell_type": "code",
   "execution_count": 26,
   "metadata": {},
   "outputs": [
    {
     "data": {
      "text/plain": [
       "'https://apps-congress.eular.org/eular2020/en-GB/ProgramSearch/Program/?searchstring=&programid=574&pProgramGrade=All&pHideLogin=False&pHidePersonal=False'"
      ]
     },
     "execution_count": 26,
     "metadata": {},
     "output_type": "execute_result"
    }
   ],
   "source": [
    "sessionUrl"
   ]
  },
  {
   "cell_type": "code",
   "execution_count": 96,
   "metadata": {
    "scrolled": true
   },
   "outputs": [
    {
     "data": {
      "text/html": [
       "<div>\n",
       "<style scoped>\n",
       "    .dataframe tbody tr th:only-of-type {\n",
       "        vertical-align: middle;\n",
       "    }\n",
       "\n",
       "    .dataframe tbody tr th {\n",
       "        vertical-align: top;\n",
       "    }\n",
       "\n",
       "    .dataframe thead th {\n",
       "        text-align: right;\n",
       "    }\n",
       "</style>\n",
       "<table border=\"1\" class=\"dataframe\">\n",
       "  <thead>\n",
       "    <tr style=\"text-align: right;\">\n",
       "      <th></th>\n",
       "      <th>Unnamed: 0</th>\n",
       "      <th>Title</th>\n",
       "      <th>Time</th>\n",
       "      <th>Appointment</th>\n",
       "      <th>Unnamed: 4</th>\n",
       "      <th>Unnamed: 5</th>\n",
       "    </tr>\n",
       "  </thead>\n",
       "  <tbody>\n",
       "    <tr>\n",
       "      <td>0</td>\n",
       "      <td>NaN</td>\n",
       "      <td>What is new in IgG4 disease  Dr. John H. Stone...</td>\n",
       "      <td>04 June 2020 10:20 - 11:00</td>\n",
       "      <td>NaN</td>\n",
       "      <td>NaN</td>\n",
       "      <td>NaN</td>\n",
       "    </tr>\n",
       "  </tbody>\n",
       "</table>\n",
       "</div>"
      ],
      "text/plain": [
       "   Unnamed: 0                                              Title  \\\n",
       "0         NaN  What is new in IgG4 disease  Dr. John H. Stone...   \n",
       "\n",
       "                         Time  Appointment  Unnamed: 4  Unnamed: 5  \n",
       "0  04 June 2020 10:20 - 11:00          NaN         NaN         NaN  "
      ]
     },
     "execution_count": 96,
     "metadata": {},
     "output_type": "execute_result"
    }
   ],
   "source": [
    "sessionData = requests.get(sessionUrl)\n",
    "# sessionData = BeautifulSoup(sessionData.text,'lxml')\n",
    "# sessionDataTable = sessionData.find_all('table',class_ = 'Result table table-striped programresult')[0]\n",
    "dfList = pd.read_html(sessionData.text)\n",
    "# sessionData.text\n",
    "dfList[-1]"
   ]
  },
  {
   "cell_type": "code",
   "execution_count": 98,
   "metadata": {},
   "outputs": [],
   "source": [
    "df = dfList[-1].copy()\n",
    "df['Room'] = dict['Sessions'][1]['RoomName']\n",
    "df['Session Name'] = dict['Sessions'][1]['Name']\n",
    "df['Description'] = dict['Sessions'][1]['Description'].strip().replace('&lt','').replace('/li','').replace('&gt','').replace(';','').replace('ul','').replace('li','').replace('/','')\n",
    "df.drop(columns = ['Unnamed: 0','Unnamed: 4','Unnamed: 5','Appointment'],axis=1,inplace = True)"
   ]
  },
  {
   "cell_type": "code",
   "execution_count": 99,
   "metadata": {
    "scrolled": true
   },
   "outputs": [
    {
     "data": {
      "text/html": [
       "<div>\n",
       "<style scoped>\n",
       "    .dataframe tbody tr th:only-of-type {\n",
       "        vertical-align: middle;\n",
       "    }\n",
       "\n",
       "    .dataframe tbody tr th {\n",
       "        vertical-align: top;\n",
       "    }\n",
       "\n",
       "    .dataframe thead th {\n",
       "        text-align: right;\n",
       "    }\n",
       "</style>\n",
       "<table border=\"1\" class=\"dataframe\">\n",
       "  <thead>\n",
       "    <tr style=\"text-align: right;\">\n",
       "      <th></th>\n",
       "      <th>Title</th>\n",
       "      <th>Time</th>\n",
       "      <th>Room</th>\n",
       "      <th>Session Name</th>\n",
       "      <th>Description</th>\n",
       "    </tr>\n",
       "  </thead>\n",
       "  <tbody>\n",
       "    <tr>\n",
       "      <td>0</td>\n",
       "      <td>What is new in IgG4 disease  Dr. John H. Stone...</td>\n",
       "      <td>04 June 2020 10:20 - 11:00</td>\n",
       "      <td>Festhalle</td>\n",
       "      <td>WIN - IgG4 disease</td>\n",
       "      <td>To receive an update on IgG4 disease.</td>\n",
       "    </tr>\n",
       "  </tbody>\n",
       "</table>\n",
       "</div>"
      ],
      "text/plain": [
       "                                               Title  \\\n",
       "0  What is new in IgG4 disease  Dr. John H. Stone...   \n",
       "\n",
       "                         Time       Room        Session Name  \\\n",
       "0  04 June 2020 10:20 - 11:00  Festhalle  WIN - IgG4 disease   \n",
       "\n",
       "                             Description  \n",
       "0  To receive an update on IgG4 disease.  "
      ]
     },
     "execution_count": 99,
     "metadata": {},
     "output_type": "execute_result"
    }
   ],
   "source": [
    "df"
   ]
  },
  {
   "cell_type": "code",
   "execution_count": 14,
   "metadata": {
    "scrolled": true
   },
   "outputs": [
    {
     "data": {
      "application/vnd.jupyter.widget-view+json": {
       "model_id": "50ff192b62b74259a1553b4e49b434e9",
       "version_major": 2,
       "version_minor": 0
      },
      "text/plain": [
       "HBox(children=(IntProgress(value=0, max=4), HTML(value='')))"
      ]
     },
     "metadata": {},
     "output_type": "display_data"
    },
    {
     "data": {
      "application/vnd.jupyter.widget-view+json": {
       "model_id": "59eaa26f4d824049a44373837785c6fe",
       "version_major": 2,
       "version_minor": 0
      },
      "text/plain": [
       "HBox(children=(IntProgress(value=0, max=31), HTML(value='')))"
      ]
     },
     "metadata": {},
     "output_type": "display_data"
    },
    {
     "name": "stdout",
     "output_type": "stream",
     "text": [
      "Yes\n",
      "\n"
     ]
    },
    {
     "data": {
      "application/vnd.jupyter.widget-view+json": {
       "model_id": "f2af01e8b1b74f11be0859f7a938d4ed",
       "version_major": 2,
       "version_minor": 0
      },
      "text/plain": [
       "HBox(children=(IntProgress(value=0, max=45), HTML(value='')))"
      ]
     },
     "metadata": {},
     "output_type": "display_data"
    },
    {
     "name": "stdout",
     "output_type": "stream",
     "text": [
      "\n"
     ]
    },
    {
     "data": {
      "application/vnd.jupyter.widget-view+json": {
       "model_id": "c06dfdf31bc647f4bf7a65033bd2c6ed",
       "version_major": 2,
       "version_minor": 0
      },
      "text/plain": [
       "HBox(children=(IntProgress(value=0, max=44), HTML(value='')))"
      ]
     },
     "metadata": {},
     "output_type": "display_data"
    },
    {
     "name": "stdout",
     "output_type": "stream",
     "text": [
      "\n"
     ]
    },
    {
     "data": {
      "application/vnd.jupyter.widget-view+json": {
       "model_id": "42e4b7f1c19b428bbc4d1b62541d4692",
       "version_major": 2,
       "version_minor": 0
      },
      "text/plain": [
       "HBox(children=(IntProgress(value=0, max=25), HTML(value='')))"
      ]
     },
     "metadata": {},
     "output_type": "display_data"
    },
    {
     "name": "stdout",
     "output_type": "stream",
     "text": [
      "Yes\n",
      "Yes\n",
      "\n",
      "\n"
     ]
    }
   ],
   "source": [
    "dates = [3,4,5,6]\n",
    "url = 'https://apps-congress.eular.org/eular2020/en-GB/PublicProgram/SessionTableJson?'\n",
    "Masterdf = pd.DataFrame()\n",
    "for i in tqdm_notebook(dates):\n",
    "    pDay = '2020-06-0' + str(i) + 'T06:00:00'\n",
    "    params = {'pDay': pDay,'pEventId':'7','pProgramGrade':'0','pShowPrivate':'false'}\n",
    "    data = requests.get(url,params = params)\n",
    "    dict_ = data.json()\n",
    "    for j in tqdm_notebook(dict_['Sessions']):\n",
    "        id = j['Id']\n",
    "        sessionUrl = 'https://apps-congress.eular.org/eular2020/en-GB/ProgramSearch/Program/?searchstring=&programid='+str(id)+'&pProgramGrade=All&pHideLogin=False&pHidePersonal=False'\n",
    "        sessionData = requests.get(sessionUrl)\n",
    "        try:\n",
    "            dfList = pd.read_html(sessionData.text)\n",
    "            df = dfList[-1].copy()\n",
    "            df['Room'] = j['RoomName']\n",
    "            df['Session Name'] = j['Name']\n",
    "            df['Chairs'] = j['Chairs']\n",
    "            df['Description'] = j['Description']\n",
    "            df.drop(columns = ['Unnamed: 0','Unnamed: 4','Unnamed: 5','Appointment'],axis=1,inplace = True)\n",
    "            Masterdf = Masterdf.append(df,ignore_index = True)\n",
    "        except:\n",
    "            print('Yes')\n",
    "#           df = pd.DataFrame()\n",
    "            dict_1 = {}    \n",
    "            dict_1['Room'] = j['RoomName']\n",
    "            dict_1['Session Name'] = j['Name']\n",
    "            dict_1['Chairs'] = j['Chairs']\n",
    "            dict_1['Description'] = j['Description']\n",
    "#             print(df)\n",
    "            Masterdf = Masterdf.append(dict_1,ignore_index = True)\n",
    "        "
   ]
  },
  {
   "cell_type": "code",
   "execution_count": 8,
   "metadata": {},
   "outputs": [],
   "source": [
    "Masterdf.to_excel('Eular2020.xls')\n"
   ]
  },
  {
   "cell_type": "code",
   "execution_count": 15,
   "metadata": {},
   "outputs": [
    {
     "data": {
      "text/html": [
       "<div>\n",
       "<style scoped>\n",
       "    .dataframe tbody tr th:only-of-type {\n",
       "        vertical-align: middle;\n",
       "    }\n",
       "\n",
       "    .dataframe tbody tr th {\n",
       "        vertical-align: top;\n",
       "    }\n",
       "\n",
       "    .dataframe thead th {\n",
       "        text-align: right;\n",
       "    }\n",
       "</style>\n",
       "<table border=\"1\" class=\"dataframe\">\n",
       "  <thead>\n",
       "    <tr style=\"text-align: right;\">\n",
       "      <th></th>\n",
       "      <th>Chairs</th>\n",
       "      <th>Description</th>\n",
       "      <th>Room</th>\n",
       "      <th>Session Name</th>\n",
       "      <th>Time</th>\n",
       "      <th>Title</th>\n",
       "    </tr>\n",
       "  </thead>\n",
       "  <tbody>\n",
       "    <tr>\n",
       "      <td>0</td>\n",
       "      <td>None</td>\n",
       "      <td>&lt;ul&gt;&lt;li&gt;To be able to discuss the key activiti...</td>\n",
       "      <td>Festhalle</td>\n",
       "      <td>Opening plenary session</td>\n",
       "      <td>NaN</td>\n",
       "      <td>NaN</td>\n",
       "    </tr>\n",
       "    <tr>\n",
       "      <td>1</td>\n",
       "      <td>None</td>\n",
       "      <td>&lt;ul&gt;&lt;li&gt;To understand the increased fracture r...</td>\n",
       "      <td>Festhalle</td>\n",
       "      <td>WIN - Bone fragility in chronic kidney disease</td>\n",
       "      <td>03 June 2020 14:20 - 14:55</td>\n",
       "      <td>What is new - Bone disease and fracture risk i...</td>\n",
       "    </tr>\n",
       "    <tr>\n",
       "      <td>2</td>\n",
       "      <td>Prof. Ernest Choy&lt;br&gt;Prof. Andrea Rubbert-Roth</td>\n",
       "      <td>To get an up-to-date information on oral thera...</td>\n",
       "      <td>Hall 3A</td>\n",
       "      <td>tsDMARD therapy of rheumatoid arthritis</td>\n",
       "      <td>03 June 2020 14:20 - 14:45</td>\n",
       "      <td>JAKi in the news – side effects  MD Roy Fleisc...</td>\n",
       "    </tr>\n",
       "    <tr>\n",
       "      <td>3</td>\n",
       "      <td>Prof. Ernest Choy&lt;br&gt;Prof. Andrea Rubbert-Roth</td>\n",
       "      <td>To get an up-to-date information on oral thera...</td>\n",
       "      <td>Hall 3A</td>\n",
       "      <td>tsDMARD therapy of rheumatoid arthritis</td>\n",
       "      <td>03 June 2020 14:45 - 15:10</td>\n",
       "      <td>“Selective” JAKi on the verve – implications f...</td>\n",
       "    </tr>\n",
       "    <tr>\n",
       "      <td>4</td>\n",
       "      <td>Prof. Ernest Choy&lt;br&gt;Prof. Andrea Rubbert-Roth</td>\n",
       "      <td>To get an up-to-date information on oral thera...</td>\n",
       "      <td>Hall 3A</td>\n",
       "      <td>tsDMARD therapy of rheumatoid arthritis</td>\n",
       "      <td>03 June 2020 15:10 - 15:35</td>\n",
       "      <td>Ten years of JAKi in RA – Real life data from ...</td>\n",
       "    </tr>\n",
       "    <tr>\n",
       "      <td>...</td>\n",
       "      <td>...</td>\n",
       "      <td>...</td>\n",
       "      <td>...</td>\n",
       "      <td>...</td>\n",
       "      <td>...</td>\n",
       "      <td>...</td>\n",
       "    </tr>\n",
       "    <tr>\n",
       "      <td>686</td>\n",
       "      <td>Ms. Agnes Kocher&lt;br&gt;Dr. Kirsten Hoeper</td>\n",
       "      <td>&amp;lt;ul&amp;gt;&amp;lt;li&amp;gt;Take home messages for HPR...</td>\n",
       "      <td>Illusion</td>\n",
       "      <td>HPR Highlight Session</td>\n",
       "      <td>06 June 2020 13:50 - 14:05</td>\n",
       "      <td>MD highlights  Prof. Dr. Espen A Haavardsholm,...</td>\n",
       "    </tr>\n",
       "    <tr>\n",
       "      <td>687</td>\n",
       "      <td>Ms. Agnes Kocher&lt;br&gt;Dr. Kirsten Hoeper</td>\n",
       "      <td>&amp;lt;ul&amp;gt;&amp;lt;li&amp;gt;Take home messages for HPR...</td>\n",
       "      <td>Illusion</td>\n",
       "      <td>HPR Highlight Session</td>\n",
       "      <td>06 June 2020 14:05 - 14:20</td>\n",
       "      <td>PARE representative PARE programme  Mrs. Boria...</td>\n",
       "    </tr>\n",
       "    <tr>\n",
       "      <td>688</td>\n",
       "      <td>Ms. Agnes Kocher&lt;br&gt;Dr. Kirsten Hoeper</td>\n",
       "      <td>&amp;lt;ul&amp;gt;&amp;lt;li&amp;gt;Take home messages for HPR...</td>\n",
       "      <td>Illusion</td>\n",
       "      <td>HPR Highlight Session</td>\n",
       "      <td>06 June 2020 14:20 - 14:35</td>\n",
       "      <td>HPR highlights  Dr. Mwidimi Ndosi, United Kingdom</td>\n",
       "    </tr>\n",
       "    <tr>\n",
       "      <td>689</td>\n",
       "      <td>(Speaker to be announced)&lt;br&gt;(Speaker to be an...</td>\n",
       "      <td>&amp;lt;ul&amp;gt;&amp;lt;li&amp;gt;&amp;lt;span lang=\"EN-US\"&amp;gt;T...</td>\n",
       "      <td>Hall 3C</td>\n",
       "      <td>PARE highlights session</td>\n",
       "      <td>06 June 2020 13:50 - 14:15</td>\n",
       "      <td>Highlights from the Scientific Programme  Dr. ...</td>\n",
       "    </tr>\n",
       "    <tr>\n",
       "      <td>690</td>\n",
       "      <td>(Speaker to be announced)&lt;br&gt;(Speaker to be an...</td>\n",
       "      <td>&amp;lt;ul&amp;gt;&amp;lt;li&amp;gt;&amp;lt;span lang=\"EN-US\"&amp;gt;T...</td>\n",
       "      <td>Hall 3C</td>\n",
       "      <td>PARE highlights session</td>\n",
       "      <td>06 June 2020 14:15 - 14:40</td>\n",
       "      <td>Highlights from the HPR Programme  Dr. Wilfred...</td>\n",
       "    </tr>\n",
       "  </tbody>\n",
       "</table>\n",
       "<p>691 rows × 6 columns</p>\n",
       "</div>"
      ],
      "text/plain": [
       "                                                Chairs  \\\n",
       "0                                                 None   \n",
       "1                                                 None   \n",
       "2       Prof. Ernest Choy<br>Prof. Andrea Rubbert-Roth   \n",
       "3       Prof. Ernest Choy<br>Prof. Andrea Rubbert-Roth   \n",
       "4       Prof. Ernest Choy<br>Prof. Andrea Rubbert-Roth   \n",
       "..                                                 ...   \n",
       "686             Ms. Agnes Kocher<br>Dr. Kirsten Hoeper   \n",
       "687             Ms. Agnes Kocher<br>Dr. Kirsten Hoeper   \n",
       "688             Ms. Agnes Kocher<br>Dr. Kirsten Hoeper   \n",
       "689  (Speaker to be announced)<br>(Speaker to be an...   \n",
       "690  (Speaker to be announced)<br>(Speaker to be an...   \n",
       "\n",
       "                                           Description       Room  \\\n",
       "0    <ul><li>To be able to discuss the key activiti...  Festhalle   \n",
       "1    <ul><li>To understand the increased fracture r...  Festhalle   \n",
       "2    To get an up-to-date information on oral thera...    Hall 3A   \n",
       "3    To get an up-to-date information on oral thera...    Hall 3A   \n",
       "4    To get an up-to-date information on oral thera...    Hall 3A   \n",
       "..                                                 ...        ...   \n",
       "686  &lt;ul&gt;&lt;li&gt;Take home messages for HPR...   Illusion   \n",
       "687  &lt;ul&gt;&lt;li&gt;Take home messages for HPR...   Illusion   \n",
       "688  &lt;ul&gt;&lt;li&gt;Take home messages for HPR...   Illusion   \n",
       "689  &lt;ul&gt;&lt;li&gt;&lt;span lang=\"EN-US\"&gt;T...    Hall 3C   \n",
       "690  &lt;ul&gt;&lt;li&gt;&lt;span lang=\"EN-US\"&gt;T...    Hall 3C   \n",
       "\n",
       "                                       Session Name  \\\n",
       "0                           Opening plenary session   \n",
       "1    WIN - Bone fragility in chronic kidney disease   \n",
       "2           tsDMARD therapy of rheumatoid arthritis   \n",
       "3           tsDMARD therapy of rheumatoid arthritis   \n",
       "4           tsDMARD therapy of rheumatoid arthritis   \n",
       "..                                              ...   \n",
       "686                           HPR Highlight Session   \n",
       "687                           HPR Highlight Session   \n",
       "688                           HPR Highlight Session   \n",
       "689                         PARE highlights session   \n",
       "690                         PARE highlights session   \n",
       "\n",
       "                           Time  \\\n",
       "0                           NaN   \n",
       "1    03 June 2020 14:20 - 14:55   \n",
       "2    03 June 2020 14:20 - 14:45   \n",
       "3    03 June 2020 14:45 - 15:10   \n",
       "4    03 June 2020 15:10 - 15:35   \n",
       "..                          ...   \n",
       "686  06 June 2020 13:50 - 14:05   \n",
       "687  06 June 2020 14:05 - 14:20   \n",
       "688  06 June 2020 14:20 - 14:35   \n",
       "689  06 June 2020 13:50 - 14:15   \n",
       "690  06 June 2020 14:15 - 14:40   \n",
       "\n",
       "                                                 Title  \n",
       "0                                                  NaN  \n",
       "1    What is new - Bone disease and fracture risk i...  \n",
       "2    JAKi in the news – side effects  MD Roy Fleisc...  \n",
       "3    “Selective” JAKi on the verve – implications f...  \n",
       "4    Ten years of JAKi in RA – Real life data from ...  \n",
       "..                                                 ...  \n",
       "686  MD highlights  Prof. Dr. Espen A Haavardsholm,...  \n",
       "687  PARE representative PARE programme  Mrs. Boria...  \n",
       "688  HPR highlights  Dr. Mwidimi Ndosi, United Kingdom  \n",
       "689  Highlights from the Scientific Programme  Dr. ...  \n",
       "690  Highlights from the HPR Programme  Dr. Wilfred...  \n",
       "\n",
       "[691 rows x 6 columns]"
      ]
     },
     "execution_count": 15,
     "metadata": {},
     "output_type": "execute_result"
    }
   ],
   "source": [
    "Masterdf"
   ]
  },
  {
   "cell_type": "code",
   "execution_count": 16,
   "metadata": {},
   "outputs": [],
   "source": [
    "Masterdf2 = Masterdf.copy()"
   ]
  },
  {
   "cell_type": "code",
   "execution_count": 17,
   "metadata": {},
   "outputs": [],
   "source": [
    "Masterdf['Date'] = Masterdf['Time'].str.split('2020',expand = True)[0]"
   ]
  },
  {
   "cell_type": "code",
   "execution_count": 18,
   "metadata": {},
   "outputs": [],
   "source": [
    "Masterdf['Start Time'] = Masterdf['Time'].str.split('2020',expand = True)[1].str.split(' - ',expand = True)[0]\n",
    "Masterdf['End Time'] = Masterdf['Time'].str.split('2020',expand = True)[1].str.split(' - ',expand = True)[1]"
   ]
  },
  {
   "cell_type": "code",
   "execution_count": 19,
   "metadata": {
    "scrolled": true
   },
   "outputs": [
    {
     "data": {
      "text/plain": [
       "Index(['Chairs', 'Description', 'Room', 'Session Name', 'Time', 'Title',\n",
       "       'Date', 'Start Time', 'End Time'],\n",
       "      dtype='object')"
      ]
     },
     "execution_count": 19,
     "metadata": {},
     "output_type": "execute_result"
    }
   ],
   "source": [
    "Masterdf.columns"
   ]
  },
  {
   "cell_type": "code",
   "execution_count": 20,
   "metadata": {},
   "outputs": [],
   "source": [
    "cols = ['Session Name','Room','Description', 'Chairs', 'Time','Date', 'Title', \n",
    "       'Start Time', 'End Time']\n",
    "Masterdf = Masterdf[cols]"
   ]
  },
  {
   "cell_type": "code",
   "execution_count": 46,
   "metadata": {},
   "outputs": [],
   "source": [
    "Masterdf['Description'] = Masterdf2['Description'].str.strip().str.replace('&lt;ul&gt;&lt;li&gt;','').str.replace('&lt;/li&gt;&lt;/ul&gt;','').str.replace('ul type=\"disc\"','').str.replace('&lt','').str.replace('/li','').str.replace('&gt','').str.replace(';','').str.replace('<ul>','').str.replace('<li>','').str.replace('/','').str.replace('<p>','').str.replace('<','').str.replace('span lang=\"EN-US\"','').str.replace('span','').str.replace('>','').str.replace('nbsp','').str.replace('&','').str.replace('middot','').str.replace('lang=\"EN-GB\"','')\n",
    "Masterdf['Chairs'] = Masterdf['Chairs'].str.replace('<br>',',')"
   ]
  },
  {
   "cell_type": "code",
   "execution_count": 43,
   "metadata": {},
   "outputs": [
    {
     "data": {
      "text/plain": [
       "'Take home messages for HPR after the EULAR Frankfurt 2020 Congress.'"
      ]
     },
     "execution_count": 43,
     "metadata": {},
     "output_type": "execute_result"
    }
   ],
   "source": [
    "Masterdf['Description'][686]"
   ]
  },
  {
   "cell_type": "code",
   "execution_count": 44,
   "metadata": {
    "scrolled": true
   },
   "outputs": [
    {
     "data": {
      "text/plain": [
       "0      To be able to discuss the key activities of EU...\n",
       "1      To understand the increased fracture risk in p...\n",
       "2      To get an up-to-date information on oral thera...\n",
       "3      To get an up-to-date information on oral thera...\n",
       "4      To get an up-to-date information on oral thera...\n",
       "                             ...                        \n",
       "686    Take home messages for HPR after the EULAR Fra...\n",
       "687    Take home messages for HPR after the EULAR Fra...\n",
       "688    Take home messages for HPR after the EULAR Fra...\n",
       "689    To provide an overview of learning and outcome...\n",
       "690    To provide an overview of learning and outcome...\n",
       "Name: Description, Length: 691, dtype: object"
      ]
     },
     "execution_count": 44,
     "metadata": {},
     "output_type": "execute_result"
    }
   ],
   "source": [
    "Masterdf['Description']"
   ]
  },
  {
   "cell_type": "code",
   "execution_count": 47,
   "metadata": {},
   "outputs": [],
   "source": [
    "Masterdf.to_excel('Eular2020.xls')"
   ]
  }
 ],
 "metadata": {
  "kernelspec": {
   "display_name": "Python 3",
   "language": "python",
   "name": "python3"
  },
  "language_info": {
   "codemirror_mode": {
    "name": "ipython",
    "version": 3
   },
   "file_extension": ".py",
   "mimetype": "text/x-python",
   "name": "python",
   "nbconvert_exporter": "python",
   "pygments_lexer": "ipython3",
   "version": "3.7.4"
  }
 },
 "nbformat": 4,
 "nbformat_minor": 2
}
