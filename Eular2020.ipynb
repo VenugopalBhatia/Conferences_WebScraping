{
 "cells": [
  {
   "cell_type": "code",
   "execution_count": 2,
   "metadata": {},
   "outputs": [],
   "source": [
    "import requests\n",
    "from bs4 import BeautifulSoup\n",
    "import pandas as pd\n",
    "from tqdm import tqdm_notebook"
   ]
  },
  {
   "cell_type": "code",
   "execution_count": 32,
   "metadata": {},
   "outputs": [
    {
     "data": {
      "text/plain": [
       "{'Id': 574,\n",
       " 'Name': 'WIN - IgG4 disease',\n",
       " 'TextWithFormat': 'WIN - IgG4 disease',\n",
       " 'StartDateTime': '/Date(1591258500000)/',\n",
       " 'EndDateTime': '/Date(1591260900000)/',\n",
       " 'Number': '',\n",
       " 'Short': '',\n",
       " 'Description': '&lt;ul&gt;&lt;li&gt;To receive an update on IgG4 disease.&lt;/li&gt;&lt;/ul&gt;',\n",
       " 'Color': '#002060',\n",
       " 'ViewCounter': 14,\n",
       " 'IsPoster': False,\n",
       " 'RoomId': 78,\n",
       " 'RoomName': 'Festhalle',\n",
       " 'RoomSort': 1,\n",
       " 'SessionTypeName': 'WIN session',\n",
       " 'SessionGroupNames': '',\n",
       " 'IsInPersonalProgram': False,\n",
       " 'SessionGroupColors': None,\n",
       " 'Tags': [],\n",
       " 'StartTimeString': '10:15',\n",
       " 'EndTimeString': '10:55',\n",
       " 'Chairs': None,\n",
       " 'RoomIndex': 0,\n",
       " 'StartTimeIndex': 1,\n",
       " 'DayStart': '/Date(1591251300000)/',\n",
       " 'TotalMinutesOfDay': 645,\n",
       " 'Icons': None,\n",
       " 'SessionGroupList': None,\n",
       " 'SessionGroupColorList': None,\n",
       " 'Text': 'WIN - IgG4 disease'}"
      ]
     },
     "execution_count": 32,
     "metadata": {},
     "output_type": "execute_result"
    }
   ],
   "source": [
    "dict['Sessions'][1]"
   ]
  },
  {
   "cell_type": "code",
   "execution_count": 24,
   "metadata": {},
   "outputs": [],
   "source": [
    "import pandas as pd"
   ]
  },
  {
   "cell_type": "code",
   "execution_count": 133,
   "metadata": {
    "scrolled": true
   },
   "outputs": [
    {
     "data": {
      "application/vnd.jupyter.widget-view+json": {
       "model_id": "b12fab9d238c45d6beb6f5c919bb8bcb",
       "version_major": 2,
       "version_minor": 0
      },
      "text/plain": [
       "HBox(children=(IntProgress(value=0, max=4), HTML(value='')))"
      ]
     },
     "metadata": {},
     "output_type": "display_data"
    },
    {
     "data": {
      "application/vnd.jupyter.widget-view+json": {
       "model_id": "dc3fecaccca048eea624c8a0417a92e1",
       "version_major": 2,
       "version_minor": 0
      },
      "text/plain": [
       "HBox(children=(IntProgress(value=0, max=31), HTML(value='')))"
      ]
     },
     "metadata": {},
     "output_type": "display_data"
    },
    {
     "name": "stdout",
     "output_type": "stream",
     "text": [
      "Yes\n"
     ]
    },
    {
     "name": "stderr",
     "output_type": "stream",
     "text": [
      "C:\\Users\\venug\\Anaconda3\\lib\\site-packages\\pandas\\core\\frame.py:7123: FutureWarning: Sorting because non-concatenation axis is not aligned. A future version\n",
      "of pandas will change to not sort by default.\n",
      "\n",
      "To accept the future behavior, pass 'sort=False'.\n",
      "\n",
      "To retain the current behavior and silence the warning, pass 'sort=True'.\n",
      "\n",
      "  sort=sort,\n"
     ]
    },
    {
     "name": "stdout",
     "output_type": "stream",
     "text": [
      "\n"
     ]
    },
    {
     "data": {
      "application/vnd.jupyter.widget-view+json": {
       "model_id": "bdfeefb90fcd4972b5dbff3444829aa0",
       "version_major": 2,
       "version_minor": 0
      },
      "text/plain": [
       "HBox(children=(IntProgress(value=0, max=45), HTML(value='')))"
      ]
     },
     "metadata": {},
     "output_type": "display_data"
    },
    {
     "name": "stdout",
     "output_type": "stream",
     "text": [
      "\n"
     ]
    },
    {
     "data": {
      "application/vnd.jupyter.widget-view+json": {
       "model_id": "cf9f89b3557242f4a8ea703ddf1303ec",
       "version_major": 2,
       "version_minor": 0
      },
      "text/plain": [
       "HBox(children=(IntProgress(value=0, max=44), HTML(value='')))"
      ]
     },
     "metadata": {},
     "output_type": "display_data"
    },
    {
     "name": "stdout",
     "output_type": "stream",
     "text": [
      "\n"
     ]
    },
    {
     "data": {
      "application/vnd.jupyter.widget-view+json": {
       "model_id": "0ed515a92ee8412ab7529f789b2a323b",
       "version_major": 2,
       "version_minor": 0
      },
      "text/plain": [
       "HBox(children=(IntProgress(value=0, max=25), HTML(value='')))"
      ]
     },
     "metadata": {},
     "output_type": "display_data"
    },
    {
     "name": "stdout",
     "output_type": "stream",
     "text": [
      "Yes\n",
      "Yes\n",
      "\n",
      "\n"
     ]
    }
   ],
   "source": [
    "dates = [3,4,5,6]\n",
    "url = 'https://apps-congress.eular.org/eular2020/en-GB/PublicProgram/SessionTableJson?'\n",
    "Masterdf = pd.DataFrame()\n",
    "for i in tqdm_notebook(dates):\n",
    "    pDay = '2020-06-0' + str(i) + 'T06:00:00'\n",
    "    params = {'pDay': pDay,'pEventId':'7','pProgramGrade':'0','pShowPrivate':'false'}\n",
    "    data = requests.get(url,params = params)\n",
    "    dict_ = data.json()\n",
    "    for j in tqdm_notebook(dict_['Sessions']):\n",
    "        id = j['Id']\n",
    "        sessionUrl = 'https://apps-congress.eular.org/eular2020/en-GB/ProgramSearch/Program/?searchstring=&programid='+str(id)+'&pProgramGrade=All&pHideLogin=False&pHidePersonal=False'\n",
    "        sessionData = requests.get(sessionUrl)\n",
    "        try:\n",
    "            dfList = pd.read_html(sessionData.text)\n",
    "            df = dfList[-1].copy()\n",
    "            df['Room'] = j['RoomName']\n",
    "            df['Session Name'] = j['Name']\n",
    "            df['Session Type'] = j['SessionTypeName']\n",
    "            df['Session Start Time'] = j['StartTimeString']\n",
    "            df['Session End Time'] = j['EndTimeString']\n",
    "            df['Chairs'] = j['Chairs']\n",
    "            \n",
    "            df['Description'] = j['Description']\n",
    "            df.drop(columns = ['Unnamed: 0','Unnamed: 4','Unnamed: 5','Appointment'],axis=1,inplace = True)\n",
    "            Masterdf = Masterdf.append(df,ignore_index = True)\n",
    "        except:\n",
    "            print('Yes')\n",
    "#           df = pd.DataFrame()\n",
    "            dict_1 = {}    \n",
    "            dict_1['Room'] = j['RoomName']\n",
    "            dict_1['Session Type'] = j['SessionTypeName']\n",
    "            dict_1['Session Start Time'] = j['StartTimeString']\n",
    "            dict_1['Session End Time'] = j['EndTimeString']\n",
    "            dict_1['Session Name'] = j['Name']\n",
    "            dict_1['Chairs'] = j['Chairs']\n",
    "            dict_1['Description'] = j['Description']\n",
    "#             print(df)\n",
    "            Masterdf = Masterdf.append(dict_1,ignore_index = True)\n",
    "        "
   ]
  },
  {
   "cell_type": "code",
   "execution_count": 134,
   "metadata": {},
   "outputs": [],
   "source": [
    "Masterdf2 = Masterdf.copy()"
   ]
  },
  {
   "cell_type": "markdown",
   "metadata": {},
   "source": [
    "Code for Poster data"
   ]
  },
  {
   "cell_type": "code",
   "execution_count": 68,
   "metadata": {},
   "outputs": [],
   "source": [
    "from selenium import webdriver\n",
    "import time"
   ]
  },
  {
   "cell_type": "code",
   "execution_count": 61,
   "metadata": {},
   "outputs": [],
   "source": [
    "BackSchedule = '//*[@id=\"btnSchedule\"]'"
   ]
  },
  {
   "cell_type": "code",
   "execution_count": 64,
   "metadata": {},
   "outputs": [],
   "source": [
    "xpath = '//*[@id=\"Days\"]/a'"
   ]
  },
  {
   "cell_type": "code",
   "execution_count": 63,
   "metadata": {},
   "outputs": [],
   "source": [
    "\n",
    "\n",
    "DayDate = '//*[@id=\"Days\"]/button[2]'"
   ]
  },
  {
   "cell_type": "code",
   "execution_count": 71,
   "metadata": {},
   "outputs": [],
   "source": [
    "dates = [2,3,4]\n",
    "driver = webdriver.Chrome(r'C:\\Users\\venug\\Downloads\\chromedriver.exe')\n",
    "LinkPosters = []\n",
    "driver.get('https://apps-congress.eular.org/eular2020/en-GB/PublicProgram')\n",
    "for i in dates:\n",
    "    DayDate = '//*[@id=\"Days\"]/button[' + str(i) + ']'\n",
    "    driver.find_element_by_xpath(DayDate).click()\n",
    "    time.sleep(1)\n",
    "    driver.find_element_by_xpath(xpath).click()\n",
    "    time.sleep(1)\n",
    "    data = driver.page_source\n",
    "    data = BeautifulSoup(data,'lxml')\n",
    "    # pd.read_html(data)\n",
    "    posterContainer = data.find('div',id = 'postersContainer')\n",
    "    lnks = posterContainer.find_all('div',class_ = 'poster ng-scope')\n",
    "    for i in lnks:\n",
    "        LinkPosters.append('https://apps-congress.eular.org/' + i.find_all('a')[0]['href'])\n",
    "    driver.find_element_by_xpath(BackSchedule).click()\n"
   ]
  },
  {
   "cell_type": "code",
   "execution_count": 73,
   "metadata": {
    "scrolled": true
   },
   "outputs": [
    {
     "data": {
      "text/plain": [
       "36"
      ]
     },
     "execution_count": 73,
     "metadata": {},
     "output_type": "execute_result"
    }
   ],
   "source": [
    "len(LinkPosters)"
   ]
  },
  {
   "cell_type": "code",
   "execution_count": 149,
   "metadata": {},
   "outputs": [],
   "source": [
    "Masterdf = Masterdf2.copy()"
   ]
  },
  {
   "cell_type": "code",
   "execution_count": 150,
   "metadata": {},
   "outputs": [
    {
     "data": {
      "application/vnd.jupyter.widget-view+json": {
       "model_id": "e8f3dab8ea9e431a9c59d2edd53aa9a7",
       "version_major": 2,
       "version_minor": 0
      },
      "text/plain": [
       "HBox(children=(IntProgress(value=0, max=36), HTML(value='')))"
      ]
     },
     "metadata": {},
     "output_type": "display_data"
    },
    {
     "name": "stdout",
     "output_type": "stream",
     "text": [
      "\n"
     ]
    }
   ],
   "source": [
    "count = 1\n",
    "for i in tqdm_notebook(LinkPosters):\n",
    "    \n",
    "    data = requests.get(i)\n",
    "    data = BeautifulSoup(data.text,'lxml')\n",
    "    heading = data.find('h4').text\n",
    "    location = str(data.select('#content > div.container-fluid > div > div')[0]).split('<br/>\\n')[0].split('</i>')[-1].strip()\n",
    "    SessionType = str(data.select('#content > div.container-fluid > div > div')[0]).split('<br/>\\n')[2].split('</i>')[-1].strip()\n",
    "    SessionTime = str(data.select('#content > div.container-fluid > div > div')[0]).split('<br/>\\n')[3].split('</i>')[-1].strip('<span id=\"dateString\">').strip('</span><br/')\n",
    "    try:\n",
    "        dfList = pd.read_html(i)\n",
    "        df = dfList[-1].copy()\n",
    "        df['Room'] = location\n",
    "        df['Session Name'] = heading\n",
    "        df['Session Type'] = SessionType\n",
    "        df['Poster Time'] = SessionTime\n",
    "        #             df['Session End Time'] = j['EndTimeString']\n",
    "        #             df['Chairs'] = j['Chairs']\n",
    "\n",
    "        #             df['Description'] = j['Description']\n",
    "        df.drop(columns = ['Unnamed: 0','Unnamed: 4','Unnamed: 5','Appointment'],axis=1,inplace = True)\n",
    "        Masterdf = Masterdf.append(df,ignore_index = True)\n",
    "    except:\n",
    "        print('Yes',count)\n",
    "        count+=1\n",
    "        #           df = pd.DataFrame()\n",
    "        dict_1 = {}    \n",
    "        dict_1['Room'] = location\n",
    "        dict_1['Session Type'] = SessionType\n",
    "        dict_1['Poster Time'] = SessionTime\n",
    "        #             dict_1['Session End Time'] = j['EndTimeString']\n",
    "        dict_1['Session Name'] = heading\n",
    "        #             dict_1['Chairs'] = j['Chairs']\n",
    "        #             dict_1['Description'] = j['Description']\n",
    "        #             print(df)\n",
    "        Masterdf = Masterdf.append(dict_1,ignore_index = True)\n"
   ]
  },
  {
   "cell_type": "code",
   "execution_count": 151,
   "metadata": {},
   "outputs": [],
   "source": [
    "Masterdf3 = Masterdf.copy()"
   ]
  },
  {
   "cell_type": "code",
   "execution_count": 152,
   "metadata": {},
   "outputs": [],
   "source": [
    "Masterdf['Date'] = Masterdf['Time'].str.split('2020',expand = True)[0]"
   ]
  },
  {
   "cell_type": "code",
   "execution_count": 153,
   "metadata": {},
   "outputs": [],
   "source": [
    "Masterdf['Start Time'] = Masterdf['Time'].str.split('2020',expand = True)[1].str.split(' - ',expand = True)[0]\n",
    "Masterdf['End Time'] = Masterdf['Time'].str.split('2020',expand = True)[1].str.split(' - ',expand = True)[1]"
   ]
  },
  {
   "cell_type": "code",
   "execution_count": 154,
   "metadata": {},
   "outputs": [],
   "source": [
    "Masterdf['Poster Date'] = Masterdf['Poster Time'].str.split('2020',expand = True)[0]"
   ]
  },
  {
   "cell_type": "code",
   "execution_count": 155,
   "metadata": {},
   "outputs": [],
   "source": [
    "Masterdf['Poster Start Time'] = Masterdf['Poster Time'].str.split('2020',expand = True)[1].str.split(' - ',expand = True)[0]\n",
    "Masterdf['Poster End Time'] = Masterdf['Poster Time'].str.split('2020',expand = True)[1].str.split(' - ',expand = True)[1]"
   ]
  },
  {
   "cell_type": "code",
   "execution_count": 157,
   "metadata": {},
   "outputs": [
    {
     "data": {
      "text/html": [
       "<div>\n",
       "<style scoped>\n",
       "    .dataframe tbody tr th:only-of-type {\n",
       "        vertical-align: middle;\n",
       "    }\n",
       "\n",
       "    .dataframe tbody tr th {\n",
       "        vertical-align: top;\n",
       "    }\n",
       "\n",
       "    .dataframe thead th {\n",
       "        text-align: right;\n",
       "    }\n",
       "</style>\n",
       "<table border=\"1\" class=\"dataframe\">\n",
       "  <thead>\n",
       "    <tr style=\"text-align: right;\">\n",
       "      <th></th>\n",
       "      <th>Chairs</th>\n",
       "      <th>Description</th>\n",
       "      <th>Poster Time</th>\n",
       "      <th>Room</th>\n",
       "      <th>Session End Time</th>\n",
       "      <th>Session Name</th>\n",
       "      <th>Session Start Time</th>\n",
       "      <th>Session Type</th>\n",
       "      <th>Time</th>\n",
       "      <th>Title</th>\n",
       "      <th>Date</th>\n",
       "      <th>Start Time</th>\n",
       "      <th>End Time</th>\n",
       "      <th>Poster Date</th>\n",
       "      <th>Poster Start Time</th>\n",
       "      <th>Poster End Time</th>\n",
       "    </tr>\n",
       "  </thead>\n",
       "  <tbody>\n",
       "    <tr>\n",
       "      <td>0</td>\n",
       "      <td>None</td>\n",
       "      <td>&lt;ul&gt;&lt;li&gt;To be able to discuss the key activiti...</td>\n",
       "      <td>NaN</td>\n",
       "      <td>Festhalle</td>\n",
       "      <td>14:00</td>\n",
       "      <td>Opening plenary session</td>\n",
       "      <td>13:00</td>\n",
       "      <td></td>\n",
       "      <td>NaN</td>\n",
       "      <td>NaN</td>\n",
       "      <td>NaN</td>\n",
       "      <td>NaN</td>\n",
       "      <td>NaN</td>\n",
       "      <td>NaN</td>\n",
       "      <td>NaN</td>\n",
       "      <td>NaN</td>\n",
       "    </tr>\n",
       "    <tr>\n",
       "      <td>1</td>\n",
       "      <td>None</td>\n",
       "      <td>&lt;ul&gt;&lt;li&gt;To understand the increased fracture r...</td>\n",
       "      <td>NaN</td>\n",
       "      <td>Festhalle</td>\n",
       "      <td>14:55</td>\n",
       "      <td>WIN - Bone fragility in chronic kidney disease</td>\n",
       "      <td>14:15</td>\n",
       "      <td>WIN session</td>\n",
       "      <td>03 June 2020 14:20 - 14:55</td>\n",
       "      <td>What is new - Bone disease and fracture risk i...</td>\n",
       "      <td>03 June</td>\n",
       "      <td>14:20</td>\n",
       "      <td>14:55</td>\n",
       "      <td>NaN</td>\n",
       "      <td>NaN</td>\n",
       "      <td>NaN</td>\n",
       "    </tr>\n",
       "    <tr>\n",
       "      <td>2</td>\n",
       "      <td>Prof. Ernest Choy&lt;br&gt;Prof. Andrea Rubbert-Roth</td>\n",
       "      <td>To get an up-to-date information on oral thera...</td>\n",
       "      <td>NaN</td>\n",
       "      <td>Hall 3A</td>\n",
       "      <td>15:45</td>\n",
       "      <td>tsDMARD therapy of rheumatoid arthritis</td>\n",
       "      <td>14:15</td>\n",
       "      <td>Clinical Science session</td>\n",
       "      <td>03 June 2020 14:20 - 14:45</td>\n",
       "      <td>JAKi in the news – side effects  MD Roy Fleisc...</td>\n",
       "      <td>03 June</td>\n",
       "      <td>14:20</td>\n",
       "      <td>14:45</td>\n",
       "      <td>NaN</td>\n",
       "      <td>NaN</td>\n",
       "      <td>NaN</td>\n",
       "    </tr>\n",
       "    <tr>\n",
       "      <td>3</td>\n",
       "      <td>Prof. Ernest Choy&lt;br&gt;Prof. Andrea Rubbert-Roth</td>\n",
       "      <td>To get an up-to-date information on oral thera...</td>\n",
       "      <td>NaN</td>\n",
       "      <td>Hall 3A</td>\n",
       "      <td>15:45</td>\n",
       "      <td>tsDMARD therapy of rheumatoid arthritis</td>\n",
       "      <td>14:15</td>\n",
       "      <td>Clinical Science session</td>\n",
       "      <td>03 June 2020 14:45 - 15:10</td>\n",
       "      <td>“Selective” JAKi on the verve – implications f...</td>\n",
       "      <td>03 June</td>\n",
       "      <td>14:45</td>\n",
       "      <td>15:10</td>\n",
       "      <td>NaN</td>\n",
       "      <td>NaN</td>\n",
       "      <td>NaN</td>\n",
       "    </tr>\n",
       "    <tr>\n",
       "      <td>4</td>\n",
       "      <td>Prof. Ernest Choy&lt;br&gt;Prof. Andrea Rubbert-Roth</td>\n",
       "      <td>To get an up-to-date information on oral thera...</td>\n",
       "      <td>NaN</td>\n",
       "      <td>Hall 3A</td>\n",
       "      <td>15:45</td>\n",
       "      <td>tsDMARD therapy of rheumatoid arthritis</td>\n",
       "      <td>14:15</td>\n",
       "      <td>Clinical Science session</td>\n",
       "      <td>03 June 2020 15:10 - 15:35</td>\n",
       "      <td>Ten years of JAKi in RA – Real life data from ...</td>\n",
       "      <td>03 June</td>\n",
       "      <td>15:10</td>\n",
       "      <td>15:35</td>\n",
       "      <td>NaN</td>\n",
       "      <td>NaN</td>\n",
       "      <td>NaN</td>\n",
       "    </tr>\n",
       "    <tr>\n",
       "      <td>...</td>\n",
       "      <td>...</td>\n",
       "      <td>...</td>\n",
       "      <td>...</td>\n",
       "      <td>...</td>\n",
       "      <td>...</td>\n",
       "      <td>...</td>\n",
       "      <td>...</td>\n",
       "      <td>...</td>\n",
       "      <td>...</td>\n",
       "      <td>...</td>\n",
       "      <td>...</td>\n",
       "      <td>...</td>\n",
       "      <td>...</td>\n",
       "      <td>...</td>\n",
       "      <td>...</td>\n",
       "      <td>...</td>\n",
       "    </tr>\n",
       "    <tr>\n",
       "      <td>1039</td>\n",
       "      <td>NaN</td>\n",
       "      <td>NaN</td>\n",
       "      <td>06 June 2020 10:30 - 12:10</td>\n",
       "      <td>Poster area (Exhibition hall)</td>\n",
       "      <td>NaN</td>\n",
       "      <td>\\r\\n                    Rehabilitation\\r\\n    ...</td>\n",
       "      <td>NaN</td>\n",
       "      <td>Poster tour HPR</td>\n",
       "      <td>06 June 2020 11:20 - 11:30</td>\n",
       "      <td>SAT0611-HPR Low adherence to recommended physi...</td>\n",
       "      <td>06 June</td>\n",
       "      <td>11:20</td>\n",
       "      <td>11:30</td>\n",
       "      <td>06 June</td>\n",
       "      <td>10:30</td>\n",
       "      <td>12:10</td>\n",
       "    </tr>\n",
       "    <tr>\n",
       "      <td>1040</td>\n",
       "      <td>NaN</td>\n",
       "      <td>NaN</td>\n",
       "      <td>06 June 2020 10:30 - 12:10</td>\n",
       "      <td>Poster area (Exhibition hall)</td>\n",
       "      <td>NaN</td>\n",
       "      <td>\\r\\n                    Rehabilitation\\r\\n    ...</td>\n",
       "      <td>NaN</td>\n",
       "      <td>Poster tour HPR</td>\n",
       "      <td>06 June 2020 11:30 - 11:40</td>\n",
       "      <td>SAT0612 Team-rehabilitation benefits body comp...</td>\n",
       "      <td>06 June</td>\n",
       "      <td>11:30</td>\n",
       "      <td>11:40</td>\n",
       "      <td>06 June</td>\n",
       "      <td>10:30</td>\n",
       "      <td>12:10</td>\n",
       "    </tr>\n",
       "    <tr>\n",
       "      <td>1041</td>\n",
       "      <td>NaN</td>\n",
       "      <td>NaN</td>\n",
       "      <td>06 June 2020 10:30 - 12:10</td>\n",
       "      <td>Poster area (Exhibition hall)</td>\n",
       "      <td>NaN</td>\n",
       "      <td>\\r\\n                    Rehabilitation\\r\\n    ...</td>\n",
       "      <td>NaN</td>\n",
       "      <td>Poster tour HPR</td>\n",
       "      <td>06 June 2020 11:40 - 11:50</td>\n",
       "      <td>SAT0613-HPR Effect of Cervical Stabilization E...</td>\n",
       "      <td>06 June</td>\n",
       "      <td>11:40</td>\n",
       "      <td>11:50</td>\n",
       "      <td>06 June</td>\n",
       "      <td>10:30</td>\n",
       "      <td>12:10</td>\n",
       "    </tr>\n",
       "    <tr>\n",
       "      <td>1042</td>\n",
       "      <td>NaN</td>\n",
       "      <td>NaN</td>\n",
       "      <td>06 June 2020 10:30 - 12:10</td>\n",
       "      <td>Poster area (Exhibition hall)</td>\n",
       "      <td>NaN</td>\n",
       "      <td>\\r\\n                    Rehabilitation\\r\\n    ...</td>\n",
       "      <td>NaN</td>\n",
       "      <td>Poster tour HPR</td>\n",
       "      <td>06 June 2020 11:50 - 12:00</td>\n",
       "      <td>SAT0614-HPR Identifying and optimising multipl...</td>\n",
       "      <td>06 June</td>\n",
       "      <td>11:50</td>\n",
       "      <td>12:00</td>\n",
       "      <td>06 June</td>\n",
       "      <td>10:30</td>\n",
       "      <td>12:10</td>\n",
       "    </tr>\n",
       "    <tr>\n",
       "      <td>1043</td>\n",
       "      <td>NaN</td>\n",
       "      <td>NaN</td>\n",
       "      <td>06 June 2020 10:30 - 12:10</td>\n",
       "      <td>Poster area (Exhibition hall)</td>\n",
       "      <td>NaN</td>\n",
       "      <td>\\r\\n                    Rehabilitation\\r\\n    ...</td>\n",
       "      <td>NaN</td>\n",
       "      <td>Poster tour HPR</td>\n",
       "      <td>06 June 2020 12:00 - 12:10</td>\n",
       "      <td>SAT0615-HPR Factors associated with patient ac...</td>\n",
       "      <td>06 June</td>\n",
       "      <td>12:00</td>\n",
       "      <td>12:10</td>\n",
       "      <td>06 June</td>\n",
       "      <td>10:30</td>\n",
       "      <td>12:10</td>\n",
       "    </tr>\n",
       "  </tbody>\n",
       "</table>\n",
       "<p>1044 rows × 16 columns</p>\n",
       "</div>"
      ],
      "text/plain": [
       "                                              Chairs  \\\n",
       "0                                               None   \n",
       "1                                               None   \n",
       "2     Prof. Ernest Choy<br>Prof. Andrea Rubbert-Roth   \n",
       "3     Prof. Ernest Choy<br>Prof. Andrea Rubbert-Roth   \n",
       "4     Prof. Ernest Choy<br>Prof. Andrea Rubbert-Roth   \n",
       "...                                              ...   \n",
       "1039                                             NaN   \n",
       "1040                                             NaN   \n",
       "1041                                             NaN   \n",
       "1042                                             NaN   \n",
       "1043                                             NaN   \n",
       "\n",
       "                                            Description  \\\n",
       "0     <ul><li>To be able to discuss the key activiti...   \n",
       "1     <ul><li>To understand the increased fracture r...   \n",
       "2     To get an up-to-date information on oral thera...   \n",
       "3     To get an up-to-date information on oral thera...   \n",
       "4     To get an up-to-date information on oral thera...   \n",
       "...                                                 ...   \n",
       "1039                                                NaN   \n",
       "1040                                                NaN   \n",
       "1041                                                NaN   \n",
       "1042                                                NaN   \n",
       "1043                                                NaN   \n",
       "\n",
       "                     Poster Time                           Room  \\\n",
       "0                            NaN                      Festhalle   \n",
       "1                            NaN                      Festhalle   \n",
       "2                            NaN                        Hall 3A   \n",
       "3                            NaN                        Hall 3A   \n",
       "4                            NaN                        Hall 3A   \n",
       "...                          ...                            ...   \n",
       "1039  06 June 2020 10:30 - 12:10  Poster area (Exhibition hall)   \n",
       "1040  06 June 2020 10:30 - 12:10  Poster area (Exhibition hall)   \n",
       "1041  06 June 2020 10:30 - 12:10  Poster area (Exhibition hall)   \n",
       "1042  06 June 2020 10:30 - 12:10  Poster area (Exhibition hall)   \n",
       "1043  06 June 2020 10:30 - 12:10  Poster area (Exhibition hall)   \n",
       "\n",
       "     Session End Time                                       Session Name  \\\n",
       "0               14:00                            Opening plenary session   \n",
       "1               14:55     WIN - Bone fragility in chronic kidney disease   \n",
       "2               15:45            tsDMARD therapy of rheumatoid arthritis   \n",
       "3               15:45            tsDMARD therapy of rheumatoid arthritis   \n",
       "4               15:45            tsDMARD therapy of rheumatoid arthritis   \n",
       "...               ...                                                ...   \n",
       "1039              NaN  \\r\\n                    Rehabilitation\\r\\n    ...   \n",
       "1040              NaN  \\r\\n                    Rehabilitation\\r\\n    ...   \n",
       "1041              NaN  \\r\\n                    Rehabilitation\\r\\n    ...   \n",
       "1042              NaN  \\r\\n                    Rehabilitation\\r\\n    ...   \n",
       "1043              NaN  \\r\\n                    Rehabilitation\\r\\n    ...   \n",
       "\n",
       "     Session Start Time              Session Type                        Time  \\\n",
       "0                 13:00                                                   NaN   \n",
       "1                 14:15               WIN session  03 June 2020 14:20 - 14:55   \n",
       "2                 14:15  Clinical Science session  03 June 2020 14:20 - 14:45   \n",
       "3                 14:15  Clinical Science session  03 June 2020 14:45 - 15:10   \n",
       "4                 14:15  Clinical Science session  03 June 2020 15:10 - 15:35   \n",
       "...                 ...                       ...                         ...   \n",
       "1039                NaN           Poster tour HPR  06 June 2020 11:20 - 11:30   \n",
       "1040                NaN           Poster tour HPR  06 June 2020 11:30 - 11:40   \n",
       "1041                NaN           Poster tour HPR  06 June 2020 11:40 - 11:50   \n",
       "1042                NaN           Poster tour HPR  06 June 2020 11:50 - 12:00   \n",
       "1043                NaN           Poster tour HPR  06 June 2020 12:00 - 12:10   \n",
       "\n",
       "                                                  Title      Date Start Time  \\\n",
       "0                                                   NaN       NaN        NaN   \n",
       "1     What is new - Bone disease and fracture risk i...  03 June       14:20   \n",
       "2     JAKi in the news – side effects  MD Roy Fleisc...  03 June       14:20   \n",
       "3     “Selective” JAKi on the verve – implications f...  03 June       14:45   \n",
       "4     Ten years of JAKi in RA – Real life data from ...  03 June       15:10   \n",
       "...                                                 ...       ...        ...   \n",
       "1039  SAT0611-HPR Low adherence to recommended physi...  06 June       11:20   \n",
       "1040  SAT0612 Team-rehabilitation benefits body comp...  06 June       11:30   \n",
       "1041  SAT0613-HPR Effect of Cervical Stabilization E...  06 June       11:40   \n",
       "1042  SAT0614-HPR Identifying and optimising multipl...  06 June       11:50   \n",
       "1043  SAT0615-HPR Factors associated with patient ac...  06 June       12:00   \n",
       "\n",
       "     End Time Poster Date Poster Start Time Poster End Time  \n",
       "0         NaN         NaN               NaN             NaN  \n",
       "1       14:55         NaN               NaN             NaN  \n",
       "2       14:45         NaN               NaN             NaN  \n",
       "3       15:10         NaN               NaN             NaN  \n",
       "4       15:35         NaN               NaN             NaN  \n",
       "...       ...         ...               ...             ...  \n",
       "1039    11:30    06 June              10:30           12:10  \n",
       "1040    11:40    06 June              10:30           12:10  \n",
       "1041    11:50    06 June              10:30           12:10  \n",
       "1042    12:00    06 June              10:30           12:10  \n",
       "1043    12:10    06 June              10:30           12:10  \n",
       "\n",
       "[1044 rows x 16 columns]"
      ]
     },
     "execution_count": 157,
     "metadata": {},
     "output_type": "execute_result"
    }
   ],
   "source": [
    "Masterdf"
   ]
  },
  {
   "cell_type": "code",
   "execution_count": 163,
   "metadata": {
    "scrolled": true
   },
   "outputs": [
    {
     "data": {
      "text/plain": [
       "16"
      ]
     },
     "execution_count": 163,
     "metadata": {},
     "output_type": "execute_result"
    }
   ],
   "source": [
    "len(Masterdf.columns)\n"
   ]
  },
  {
   "cell_type": "code",
   "execution_count": 164,
   "metadata": {},
   "outputs": [],
   "source": [
    "cols = ['Session Name','Room','Session Type','Session Start Time','Session End Time','Description', 'Chairs', 'Time','Date', 'Title', \n",
    "       'Start Time', 'End Time','Poster Time','Poster Date', 'Poster Start Time',\n",
    "       'Poster End Time']\n",
    "len(cols)\n",
    "Masterdf = Masterdf[cols]"
   ]
  },
  {
   "cell_type": "code",
   "execution_count": 170,
   "metadata": {},
   "outputs": [],
   "source": [
    "Masterdf['Session Name'] = Masterdf['Session Name'].str.strip()"
   ]
  },
  {
   "cell_type": "code",
   "execution_count": 174,
   "metadata": {},
   "outputs": [
    {
     "data": {
      "text/plain": [
       "0       13:00\n",
       "1       14:15\n",
       "2       14:15\n",
       "3       14:15\n",
       "4       14:15\n",
       "        ...  \n",
       "1039      NaN\n",
       "1040      NaN\n",
       "1041      NaN\n",
       "1042      NaN\n",
       "1043      NaN\n",
       "Name: Session Start Time, Length: 1044, dtype: object"
      ]
     },
     "execution_count": 174,
     "metadata": {},
     "output_type": "execute_result"
    }
   ],
   "source": [
    "Masterdf['Session Start Time']"
   ]
  },
  {
   "cell_type": "code",
   "execution_count": 175,
   "metadata": {
    "scrolled": true
   },
   "outputs": [],
   "source": [
    "Masterdf['Session Start Time'] = Masterdf['Session Start Time'].fillna(Masterdf['Poster Start Time'])"
   ]
  },
  {
   "cell_type": "code",
   "execution_count": 176,
   "metadata": {},
   "outputs": [],
   "source": [
    "\n",
    "Masterdf['Session End Time'] = Masterdf['Session End Time'].fillna(Masterdf['Poster End Time'])"
   ]
  },
  {
   "cell_type": "code",
   "execution_count": 165,
   "metadata": {},
   "outputs": [],
   "source": [
    "Masterdf['Description'] = Masterdf2['Description'].str.strip().str.replace('&lt;ul&gt;&lt;li&gt;','').str.replace('&lt;/li&gt;&lt;/ul&gt;','').str.replace('ul type=\"disc\"','').str.replace('&lt','').str.replace('/li','').str.replace('&gt','').str.replace(';','').str.replace('<ul>','').str.replace('<li>','').str.replace('/','').str.replace('<p>','').str.replace('<','').str.replace('span lang=\"EN-US\"','').str.replace('span','').str.replace('>','').str.replace('nbsp','').str.replace('&','').str.replace('middot','').str.replace('lang=\"EN-GB\"','')\n",
    "Masterdf['Chairs'] = Masterdf['Chairs'].str.replace('<br>',',')"
   ]
  },
  {
   "cell_type": "code",
   "execution_count": 166,
   "metadata": {},
   "outputs": [
    {
     "data": {
      "text/plain": [
       "'Take home messages for HPR after the EULAR Frankfurt 2020 Congress.'"
      ]
     },
     "execution_count": 166,
     "metadata": {},
     "output_type": "execute_result"
    }
   ],
   "source": [
    "Masterdf['Description'][686]"
   ]
  },
  {
   "cell_type": "code",
   "execution_count": 44,
   "metadata": {
    "scrolled": true
   },
   "outputs": [
    {
     "data": {
      "text/plain": [
       "0      To be able to discuss the key activities of EU...\n",
       "1      To understand the increased fracture risk in p...\n",
       "2      To get an up-to-date information on oral thera...\n",
       "3      To get an up-to-date information on oral thera...\n",
       "4      To get an up-to-date information on oral thera...\n",
       "                             ...                        \n",
       "686    Take home messages for HPR after the EULAR Fra...\n",
       "687    Take home messages for HPR after the EULAR Fra...\n",
       "688    Take home messages for HPR after the EULAR Fra...\n",
       "689    To provide an overview of learning and outcome...\n",
       "690    To provide an overview of learning and outcome...\n",
       "Name: Description, Length: 691, dtype: object"
      ]
     },
     "execution_count": 44,
     "metadata": {},
     "output_type": "execute_result"
    }
   ],
   "source": [
    "Masterdf['Description']"
   ]
  },
  {
   "cell_type": "code",
   "execution_count": 177,
   "metadata": {},
   "outputs": [],
   "source": [
    "Masterdf.to_excel('Eular2020.xls')"
   ]
  }
 ],
 "metadata": {
  "kernelspec": {
   "display_name": "Python 3",
   "language": "python",
   "name": "python3"
  },
  "language_info": {
   "codemirror_mode": {
    "name": "ipython",
    "version": 3
   },
   "file_extension": ".py",
   "mimetype": "text/x-python",
   "name": "python",
   "nbconvert_exporter": "python",
   "pygments_lexer": "ipython3",
   "version": "3.7.4"
  }
 },
 "nbformat": 4,
 "nbformat_minor": 2
}
