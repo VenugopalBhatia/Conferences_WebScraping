{
 "cells": [
  {
   "cell_type": "code",
   "execution_count": 33,
   "metadata": {},
   "outputs": [],
   "source": [
    "import requests\n",
    "import pandas as pd\n",
    "from bs4 import BeautifulSoup"
   ]
  },
  {
   "cell_type": "code",
   "execution_count": 34,
   "metadata": {},
   "outputs": [],
   "source": [
    "import re"
   ]
  },
  {
   "cell_type": "code",
   "execution_count": 73,
   "metadata": {},
   "outputs": [],
   "source": [
    "from tqdm import tqdm_notebook"
   ]
  },
  {
   "cell_type": "code",
   "execution_count": 61,
   "metadata": {},
   "outputs": [],
   "source": [
    "import numpy as np"
   ]
  },
  {
   "cell_type": "code",
   "execution_count": 55,
   "metadata": {},
   "outputs": [],
   "source": [
    "def ExtractDetails(url):\n",
    "    Details = {}\n",
    "    response = requests.get(url)\n",
    "    PgSrc = BeautifulSoup(response.text,'lxml')\n",
    "    \n",
    "    Details['Title'] = PgSrc.find('h1',class_ = \"title page-title\").text\n",
    "    Misc = PgSrc.find('div',id = \"metaabstract\")\n",
    "    Details['Topic'] = Misc.find('div',class_ = 'field field--name-field-abstract-topic field--type-string field--label-hidden field__item').text.replace('\\n','')\n",
    "\n",
    "    Details['Poster/Abstract Number'] = Misc.find('div',class_ = 'field field--name-field-assigned-number field--type-string field--label-hidden field__item').text.replace('\\n','')\n",
    "    Details['Authors'] = Misc.find('div',class_ = 'field field--name-field-co-authors field--type-string field--label-hidden field__items').text.replace('\\n','')\n",
    "#     dno = 1\n",
    "#     for det in MiscDet:\n",
    "#         Details['Detail number '+str(dno)] = det.text\n",
    "#         dno+=1\n",
    "    Details['Organisations/Institutions'] = PgSrc.find('details',id = 'institutions').text.replace('\\n','')\n",
    "    Details['Summary'] = PgSrc.find('div',class_ = 'clearfix text-formatted field field--name-field-mt-prs-body field--type-text-with-summary field--label-hidden field__item').text.replace('\\n','')\n",
    "    return Details"
   ]
  },
  {
   "cell_type": "code",
   "execution_count": 56,
   "metadata": {},
   "outputs": [
    {
     "data": {
      "text/plain": [
       "{'Title': 'A biomarker of DUX4 activity to evaluate losmapimod treatment effect in FSHD Phase 2 trials\\n',\n",
       " 'Topic': ' Clinical Trials',\n",
       " 'Poster/Abstract Number': '30',\n",
       " 'Authors': 'Lucienne Ronco, PhD, Kathryn Wagner, MD, Diego Cadavid, MD, Jayashree Chadchankar, PhD, Aaron Chang, PhD, Michelle Mellion, MD, Shane Raines, PhD, Anugraha Raman, PhD, Alan Robertson, MS, Alejandro Rojas, PhD, Ning Shen, PhD, Jeffrey Statland, MD, Rabi Tawil, MD, Stephen Tapscott, MD, PhD, Baziel van Engelen, MD, Leo Wang, MD, Nicholas Johnson, MD, Owen Wallace, PhD',\n",
       " 'Organisations/Institutions': ' Organizations/Institutions1. Fulcrum Therapeutics, 2. Kennedy Krieger Institute, Johns Hopkins School of Medicine, Baltimore, MD, USA, 3. Fulcrum Therapeutics, 5. Fulcrum Therapeutics, 6. Fulcrum Therapeutics, 9. Fulcrum Therapeutics, 10. Fulcrum Therapeutics, 11. Fulcrum Therapeutics, 12. University of Kansas Medical Center, 13. University of Rochester, 14. Human Biology Division, Fred Hutchinson Cancer Research Center, 16. University of Washington, 17. Virginia Commonwealth University, 18. University of Rochester Medical Center',\n",
       " 'Summary': 'Objective: To identify a panel of stable DUX4-regulated gene transcripts expressed in affected FSHD muscle biopsies.  Background: FSHD is caused by the pathogenic expression of the homeobox transcription factor DUX4.  Aberrant DUX4 expression results in transcriptional dysregulation and activity of a characteristic transcriptional program that causes myofiber death with weakness and accumulation of disability. While pharmacodynamic detection of DUX4 protein and mRNA is challenging, this is not the case for DUX4-regulated gene transcripts which are readily detected in affected muscles (Wang, 2018). Fulcrum Therapeutics is developing losmapimod, a selective small molecule inhibitor of p38α/β, to reduce aberrant DUX4 expression in FSHD. A preparatory biomarker study was performed to identify a set of stable DUX4-regulated gene transcripts that will provide a pharmacodynamic biomarker endpoint to measure treatment effect on the root cause of FSHD.Design/Methods:  Patients age 18-65, inclusive, with genetically confirmed diagnosis of FSHD1, clinical severity score 2 to 4 and a muscle that meets criteria for biopsy were included in this study. Eligible muscles were identified by MRI STIR+ signal and MFF of 10-40%. Muscle biopsies were performed twice approximately 6 weeks apart on the same leg muscle.  Biopsies were analyzed by RNA sequencing. Expression profile data was analyzed by differential expression profiling and machine learning algorithms.  Results: 17 subjects were enrolled and 16 completed the study.  Using published RNA sequencing data from a previous study (Wang, 2018) and new RNAseq data from this study, a subset of DUX4-regulated gene transcripts was identified based on consistent detection in repeated biopsies of affected muscles. Conclusions: We have identified a set of stable DUX4-regulated gene transcripts that provides a pharmacodynamic biomarker endpoint to measure treatment effect on the root cause of FSHD in losmapimod FSHD clinical trials.'}"
      ]
     },
     "execution_count": 56,
     "metadata": {},
     "output_type": "execute_result"
    }
   ],
   "source": [
    "Details = ExtractDetails('https://mdaconference.org/node/920')\n",
    "Details"
   ]
  },
  {
   "cell_type": "code",
   "execution_count": 53,
   "metadata": {},
   "outputs": [],
   "source": [
    "def ExtractLinks(url):\n",
    "    Links = []\n",
    "    response = requests.get(url)\n",
    "    data = BeautifulSoup(response.text,'lxml')\n",
    "    Abstracts = data.find_all('div',class_ = re.compile('abstractsearchcol views-col col-'))\n",
    "    for abstract in Abstracts:\n",
    "        Links.append('https://mdaconference.org' + abstract.find('a')['href'])\n",
    "    return Links"
   ]
  },
  {
   "cell_type": "code",
   "execution_count": 48,
   "metadata": {},
   "outputs": [],
   "source": [
    "Links = []\n",
    "Links = ExtractLinks('https://mdaconference.org/abstract-search?combine=&field_assigned_number_value=&field_co_authors_value=&field_abstract_topic_value=All&page=25')"
   ]
  },
  {
   "cell_type": "code",
   "execution_count": 147,
   "metadata": {
    "scrolled": true
   },
   "outputs": [
    {
     "data": {
      "application/vnd.jupyter.widget-view+json": {
       "model_id": "3ae3016a2db940708fef8a477f741f60",
       "version_major": 2,
       "version_minor": 0
      },
      "text/plain": [
       "HBox(children=(IntProgress(value=0, max=186), HTML(value='')))"
      ]
     },
     "metadata": {},
     "output_type": "display_data"
    },
    {
     "name": "stdout",
     "output_type": "stream",
     "text": [
      "\n"
     ]
    }
   ],
   "source": [
    "MasterLinks = []\n",
    "Links = ExtractLinks('https://mdaconference.org/abstract-search?combine=&field_assigned_number_value=&field_co_authors_value=&field_abstract_topic_value=All&page=0')\n",
    "dfDetails = pd.DataFrame()\n",
    "i = 0\n",
    "while len(Links)!=0:\n",
    "    MasterLinks.append(Links) # Could have just gone with list.extend rather than hstack\n",
    "    i+=1\n",
    "    url = 'https://mdaconference.org/abstract-search?combine=&field_assigned_number_value=&field_co_authors_value=&field_abstract_topic_value=All&page=' + str(i)\n",
    "    Links = ExtractLinks(url)\n",
    "MasterLinks = np.hstack(MasterLinks)\n",
    "for link in tqdm_notebook(MasterLinks):\n",
    "    Details = ExtractDetails(link)\n",
    "    dfDetails = dfDetails.append(Details,ignore_index = True)"
   ]
  },
  {
   "cell_type": "code",
   "execution_count": 84,
   "metadata": {},
   "outputs": [
    {
     "data": {
      "text/plain": [
       "array(['https://mdaconference.org/node/933',\n",
       "       'https://mdaconference.org/node/909',\n",
       "       'https://mdaconference.org/node/1070',\n",
       "       'https://mdaconference.org/node/1058',\n",
       "       'https://mdaconference.org/node/898',\n",
       "       'https://mdaconference.org/node/950',\n",
       "       'https://mdaconference.org/node/1080',\n",
       "       'https://mdaconference.org/node/921',\n",
       "       'https://mdaconference.org/node/1061',\n",
       "       'https://mdaconference.org/node/1055',\n",
       "       'https://mdaconference.org/node/1034',\n",
       "       'https://mdaconference.org/node/923',\n",
       "       'https://mdaconference.org/node/937',\n",
       "       'https://mdaconference.org/node/965',\n",
       "       'https://mdaconference.org/node/979',\n",
       "       'https://mdaconference.org/node/907',\n",
       "       'https://mdaconference.org/node/927',\n",
       "       'https://mdaconference.org/node/1015',\n",
       "       'https://mdaconference.org/node/948',\n",
       "       'https://mdaconference.org/node/983',\n",
       "       'https://mdaconference.org/node/986',\n",
       "       'https://mdaconference.org/node/1039',\n",
       "       'https://mdaconference.org/node/1077',\n",
       "       'https://mdaconference.org/node/959',\n",
       "       'https://mdaconference.org/node/991',\n",
       "       'https://mdaconference.org/node/971',\n",
       "       'https://mdaconference.org/node/989',\n",
       "       'https://mdaconference.org/node/935',\n",
       "       'https://mdaconference.org/node/1026',\n",
       "       'https://mdaconference.org/node/1006',\n",
       "       'https://mdaconference.org/node/1047',\n",
       "       'https://mdaconference.org/node/910',\n",
       "       'https://mdaconference.org/node/1012',\n",
       "       'https://mdaconference.org/node/990',\n",
       "       'https://mdaconference.org/node/1078',\n",
       "       'https://mdaconference.org/node/1030',\n",
       "       'https://mdaconference.org/node/904',\n",
       "       'https://mdaconference.org/node/998',\n",
       "       'https://mdaconference.org/node/1019',\n",
       "       'https://mdaconference.org/node/973',\n",
       "       'https://mdaconference.org/node/902',\n",
       "       'https://mdaconference.org/node/1054',\n",
       "       'https://mdaconference.org/node/1041',\n",
       "       'https://mdaconference.org/node/928',\n",
       "       'https://mdaconference.org/node/1065',\n",
       "       'https://mdaconference.org/node/908',\n",
       "       'https://mdaconference.org/node/949',\n",
       "       'https://mdaconference.org/node/938',\n",
       "       'https://mdaconference.org/node/945',\n",
       "       'https://mdaconference.org/node/924',\n",
       "       'https://mdaconference.org/node/925',\n",
       "       'https://mdaconference.org/node/1075',\n",
       "       'https://mdaconference.org/node/974',\n",
       "       'https://mdaconference.org/node/940',\n",
       "       'https://mdaconference.org/node/1005',\n",
       "       'https://mdaconference.org/node/1033',\n",
       "       'https://mdaconference.org/node/1036',\n",
       "       'https://mdaconference.org/node/934',\n",
       "       'https://mdaconference.org/node/1028',\n",
       "       'https://mdaconference.org/node/1062',\n",
       "       'https://mdaconference.org/node/1037',\n",
       "       'https://mdaconference.org/node/1025',\n",
       "       'https://mdaconference.org/node/1046',\n",
       "       'https://mdaconference.org/node/995',\n",
       "       'https://mdaconference.org/node/947',\n",
       "       'https://mdaconference.org/node/1013',\n",
       "       'https://mdaconference.org/node/968',\n",
       "       'https://mdaconference.org/node/1079',\n",
       "       'https://mdaconference.org/node/980',\n",
       "       'https://mdaconference.org/node/1043',\n",
       "       'https://mdaconference.org/node/1001',\n",
       "       'https://mdaconference.org/node/1074',\n",
       "       'https://mdaconference.org/node/994',\n",
       "       'https://mdaconference.org/node/1031',\n",
       "       'https://mdaconference.org/node/899',\n",
       "       'https://mdaconference.org/node/1020',\n",
       "       'https://mdaconference.org/node/1076',\n",
       "       'https://mdaconference.org/node/1044',\n",
       "       'https://mdaconference.org/node/988',\n",
       "       'https://mdaconference.org/node/1040',\n",
       "       'https://mdaconference.org/node/1057',\n",
       "       'https://mdaconference.org/node/1042',\n",
       "       'https://mdaconference.org/node/1071',\n",
       "       'https://mdaconference.org/node/954',\n",
       "       'https://mdaconference.org/node/916',\n",
       "       'https://mdaconference.org/node/1010',\n",
       "       'https://mdaconference.org/node/946',\n",
       "       'https://mdaconference.org/node/955',\n",
       "       'https://mdaconference.org/node/1004',\n",
       "       'https://mdaconference.org/node/981',\n",
       "       'https://mdaconference.org/node/985',\n",
       "       'https://mdaconference.org/node/914',\n",
       "       'https://mdaconference.org/node/922',\n",
       "       'https://mdaconference.org/node/917',\n",
       "       'https://mdaconference.org/node/944',\n",
       "       'https://mdaconference.org/node/936',\n",
       "       'https://mdaconference.org/node/962',\n",
       "       'https://mdaconference.org/node/1029',\n",
       "       'https://mdaconference.org/node/1064',\n",
       "       'https://mdaconference.org/node/1073',\n",
       "       'https://mdaconference.org/node/1081',\n",
       "       'https://mdaconference.org/node/1068',\n",
       "       'https://mdaconference.org/node/977',\n",
       "       'https://mdaconference.org/node/969',\n",
       "       'https://mdaconference.org/node/952',\n",
       "       'https://mdaconference.org/node/996',\n",
       "       'https://mdaconference.org/node/1009',\n",
       "       'https://mdaconference.org/node/957',\n",
       "       'https://mdaconference.org/node/1032',\n",
       "       'https://mdaconference.org/node/987',\n",
       "       'https://mdaconference.org/node/1063',\n",
       "       'https://mdaconference.org/node/997',\n",
       "       'https://mdaconference.org/node/1014',\n",
       "       'https://mdaconference.org/node/1017',\n",
       "       'https://mdaconference.org/node/1016',\n",
       "       'https://mdaconference.org/node/976',\n",
       "       'https://mdaconference.org/node/1050',\n",
       "       'https://mdaconference.org/node/963',\n",
       "       'https://mdaconference.org/node/958',\n",
       "       'https://mdaconference.org/node/930',\n",
       "       'https://mdaconference.org/node/972',\n",
       "       'https://mdaconference.org/node/929',\n",
       "       'https://mdaconference.org/node/941',\n",
       "       'https://mdaconference.org/node/964',\n",
       "       'https://mdaconference.org/node/966',\n",
       "       'https://mdaconference.org/node/992',\n",
       "       'https://mdaconference.org/node/1023',\n",
       "       'https://mdaconference.org/node/982',\n",
       "       'https://mdaconference.org/node/943',\n",
       "       'https://mdaconference.org/node/1067',\n",
       "       'https://mdaconference.org/node/1069',\n",
       "       'https://mdaconference.org/node/961',\n",
       "       'https://mdaconference.org/node/1000',\n",
       "       'https://mdaconference.org/node/942',\n",
       "       'https://mdaconference.org/node/903',\n",
       "       'https://mdaconference.org/node/915',\n",
       "       'https://mdaconference.org/node/1052',\n",
       "       'https://mdaconference.org/node/951',\n",
       "       'https://mdaconference.org/node/1011',\n",
       "       'https://mdaconference.org/node/900',\n",
       "       'https://mdaconference.org/node/1053',\n",
       "       'https://mdaconference.org/node/1024',\n",
       "       'https://mdaconference.org/node/1027',\n",
       "       'https://mdaconference.org/node/939',\n",
       "       'https://mdaconference.org/node/1051',\n",
       "       'https://mdaconference.org/node/1048',\n",
       "       'https://mdaconference.org/node/919',\n",
       "       'https://mdaconference.org/node/932',\n",
       "       'https://mdaconference.org/node/1007',\n",
       "       'https://mdaconference.org/node/1056',\n",
       "       'https://mdaconference.org/node/913',\n",
       "       'https://mdaconference.org/node/1072',\n",
       "       'https://mdaconference.org/node/1082',\n",
       "       'https://mdaconference.org/node/953',\n",
       "       'https://mdaconference.org/node/1045',\n",
       "       'https://mdaconference.org/node/1035',\n",
       "       'https://mdaconference.org/node/1049',\n",
       "       'https://mdaconference.org/node/1038',\n",
       "       'https://mdaconference.org/node/906',\n",
       "       'https://mdaconference.org/node/1066',\n",
       "       'https://mdaconference.org/node/960',\n",
       "       'https://mdaconference.org/node/975',\n",
       "       'https://mdaconference.org/node/1003',\n",
       "       'https://mdaconference.org/node/911',\n",
       "       'https://mdaconference.org/node/999',\n",
       "       'https://mdaconference.org/node/1018',\n",
       "       'https://mdaconference.org/node/897',\n",
       "       'https://mdaconference.org/node/905',\n",
       "       'https://mdaconference.org/node/978',\n",
       "       'https://mdaconference.org/node/984',\n",
       "       'https://mdaconference.org/node/901',\n",
       "       'https://mdaconference.org/node/993',\n",
       "       'https://mdaconference.org/node/918',\n",
       "       'https://mdaconference.org/node/1008',\n",
       "       'https://mdaconference.org/node/1022',\n",
       "       'https://mdaconference.org/node/1021',\n",
       "       'https://mdaconference.org/node/956'], dtype='<U35')"
      ]
     },
     "execution_count": 84,
     "metadata": {},
     "output_type": "execute_result"
    }
   ],
   "source": [
    "MasterLinks\n"
   ]
  },
  {
   "cell_type": "code",
   "execution_count": 86,
   "metadata": {},
   "outputs": [],
   "source": [
    "Links = ExtractLinks('https://mdaconference.org/abstract-search?combine=&field_assigned_number_value=&field_co_authors_value=&field_abstract_topic_value=All&page=1')\n",
    "MasterLinks = []\n",
    "# dfDetails = pd.DataFrame()\n",
    "i = 1\n",
    "while len(Links)!=0:\n",
    "    MasterLinks.append(Links) # Could have just gone with list.extend rather than hstack\n",
    "    i+=1\n",
    "    url = 'https://mdaconference.org/abstract-search?combine=&field_assigned_number_value=&field_co_authors_value=&field_abstract_topic_value=All&page=' + str(i)\n",
    "    Links = ExtractLinks(url)\n",
    "MasterLinks = np.hstack(MasterLinks)"
   ]
  },
  {
   "cell_type": "code",
   "execution_count": 88,
   "metadata": {
    "scrolled": false
   },
   "outputs": [
    {
     "data": {
      "text/plain": [
       "177"
      ]
     },
     "execution_count": 88,
     "metadata": {},
     "output_type": "execute_result"
    }
   ],
   "source": [
    "len(MasterLinks)"
   ]
  },
  {
   "cell_type": "code",
   "execution_count": 148,
   "metadata": {},
   "outputs": [
    {
     "data": {
      "text/html": [
       "<div>\n",
       "<style scoped>\n",
       "    .dataframe tbody tr th:only-of-type {\n",
       "        vertical-align: middle;\n",
       "    }\n",
       "\n",
       "    .dataframe tbody tr th {\n",
       "        vertical-align: top;\n",
       "    }\n",
       "\n",
       "    .dataframe thead th {\n",
       "        text-align: right;\n",
       "    }\n",
       "</style>\n",
       "<table border=\"1\" class=\"dataframe\">\n",
       "  <thead>\n",
       "    <tr style=\"text-align: right;\">\n",
       "      <th></th>\n",
       "      <th>Authors</th>\n",
       "      <th>Organisations/Institutions</th>\n",
       "      <th>Poster/Abstract Number</th>\n",
       "      <th>Summary</th>\n",
       "      <th>Title</th>\n",
       "      <th>Topic</th>\n",
       "    </tr>\n",
       "  </thead>\n",
       "  <tbody>\n",
       "    <tr>\n",
       "      <td>0</td>\n",
       "      <td>Lucienne Ronco, PhD, Kathryn Wagner, MD, Diego...</td>\n",
       "      <td>Organizations/Institutions1. Fulcrum Therapeu...</td>\n",
       "      <td>30</td>\n",
       "      <td>Objective: To identify a panel of stable DUX4-...</td>\n",
       "      <td>A biomarker of DUX4 activity to evaluate losma...</td>\n",
       "      <td>Clinical Trials</td>\n",
       "    </tr>\n",
       "  </tbody>\n",
       "</table>\n",
       "</div>"
      ],
      "text/plain": [
       "                                             Authors  \\\n",
       "0  Lucienne Ronco, PhD, Kathryn Wagner, MD, Diego...   \n",
       "\n",
       "                          Organisations/Institutions Poster/Abstract Number  \\\n",
       "0   Organizations/Institutions1. Fulcrum Therapeu...                     30   \n",
       "\n",
       "                                             Summary  \\\n",
       "0  Objective: To identify a panel of stable DUX4-...   \n",
       "\n",
       "                                               Title             Topic  \n",
       "0  A biomarker of DUX4 activity to evaluate losma...   Clinical Trials  "
      ]
     },
     "execution_count": 148,
     "metadata": {},
     "output_type": "execute_result"
    }
   ],
   "source": [
    "dfDetails[dfDetails['Poster/Abstract Number'] == '30']"
   ]
  },
  {
   "cell_type": "code",
   "execution_count": 149,
   "metadata": {},
   "outputs": [],
   "source": [
    "RearrangedColumns = ['Title','Authors', 'Organisations/Institutions', 'Poster/Abstract Number',\n",
    "       'Summary',  'Topic']"
   ]
  },
  {
   "cell_type": "code",
   "execution_count": 150,
   "metadata": {},
   "outputs": [],
   "source": [
    "dfDetails = dfDetails[RearrangedColumns]"
   ]
  },
  {
   "cell_type": "code",
   "execution_count": 152,
   "metadata": {},
   "outputs": [],
   "source": [
    "dfDetails.to_excel('MDAConference2020.xls')"
   ]
  },
  {
   "cell_type": "code",
   "execution_count": null,
   "metadata": {},
   "outputs": [],
   "source": []
  }
 ],
 "metadata": {
  "kernelspec": {
   "display_name": "Python 3",
   "language": "python",
   "name": "python3"
  },
  "language_info": {
   "codemirror_mode": {
    "name": "ipython",
    "version": 3
   },
   "file_extension": ".py",
   "mimetype": "text/x-python",
   "name": "python",
   "nbconvert_exporter": "python",
   "pygments_lexer": "ipython3",
   "version": "3.7.4"
  }
 },
 "nbformat": 4,
 "nbformat_minor": 2
}
